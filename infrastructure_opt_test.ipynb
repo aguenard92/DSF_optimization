{
 "cells": [
  {
   "attachments": {},
   "cell_type": "markdown",
   "metadata": {},
   "source": [
    "# Demand side flexibility\n"
   ]
  },
  {
   "cell_type": "code",
   "execution_count": 1,
   "metadata": {},
   "outputs": [
    {
     "name": "stderr",
     "output_type": "stream",
     "text": [
      "\u001b[33m\u001b[1m┌ \u001b[22m\u001b[39m\u001b[33m\u001b[1mWarning: \u001b[22m\u001b[39mcould not download https://pkg.julialang.org/registries\n",
      "\u001b[33m\u001b[1m│ \u001b[22m\u001b[39m  exception = RequestError: Could not resolve host: pkg.julialang.org while requesting https://pkg.julialang.org/registries\n",
      "\u001b[33m\u001b[1m└ \u001b[22m\u001b[39m\u001b[90m@ Pkg.Registry /Applications/Julia-1.9.app/Contents/Resources/julia/share/julia/stdlib/v1.9/Pkg/src/Registry/Registry.jl:69\u001b[39m\n",
      "\u001b[32m\u001b[1m    Updating\u001b[22m\u001b[39m registry at `~/.julia/registries/General.toml`\n",
      "\u001b[32m\u001b[1m   Resolving\u001b[22m\u001b[39m package versions...\n",
      "\u001b[32m\u001b[1m  No Changes\u001b[22m\u001b[39m to `~/.julia/environments/v1.9/Project.toml`\n",
      "\u001b[32m\u001b[1m  No Changes\u001b[22m\u001b[39m to `~/.julia/environments/v1.9/Manifest.toml`\n",
      "\u001b[32m\u001b[1m   Resolving\u001b[22m\u001b[39m package versions...\n",
      "\u001b[32m\u001b[1m  No Changes\u001b[22m\u001b[39m to `~/.julia/environments/v1.9/Project.toml`\n",
      "\u001b[32m\u001b[1m  No Changes\u001b[22m\u001b[39m to `~/.julia/environments/v1.9/Manifest.toml`\n",
      "\u001b[32m\u001b[1m   Resolving\u001b[22m\u001b[39m package versions...\n",
      "\u001b[32m\u001b[1m  No Changes\u001b[22m\u001b[39m to `~/.julia/environments/v1.9/Project.toml`\n",
      "\u001b[32m\u001b[1m  No Changes\u001b[22m\u001b[39m to `~/.julia/environments/v1.9/Manifest.toml`\n",
      "\u001b[32m\u001b[1m   Resolving\u001b[22m\u001b[39m package versions...\n",
      "\u001b[32m\u001b[1m  No Changes\u001b[22m\u001b[39m to `~/.julia/environments/v1.9/Project.toml`\n",
      "\u001b[32m\u001b[1m  No Changes\u001b[22m\u001b[39m to `~/.julia/environments/v1.9/Manifest.toml`\n"
     ]
    }
   ],
   "source": [
    "using Pkg\n",
    "Pkg.add(\"CSV\")\n",
    "Pkg.add(\"DataFrames\")\n",
    "Pkg.add(\"JuMP\")\n",
    "Pkg.add(\"Gurobi\")"
   ]
  },
  {
   "cell_type": "code",
   "execution_count": 2,
   "metadata": {},
   "outputs": [],
   "source": [
    "using CSV, DataFrames, JuMP, Gurobi"
   ]
  },
  {
   "attachments": {},
   "cell_type": "markdown",
   "metadata": {},
   "source": [
    "# Cost of the technologies"
   ]
  },
  {
   "cell_type": "code",
   "execution_count": 3,
   "metadata": {},
   "outputs": [
    {
     "ename": "LoadError",
     "evalue": "syntax: unexpected \"=\"",
     "output_type": "error",
     "traceback": [
      "syntax: unexpected \"=\"",
      "",
      "Stacktrace:",
      " [1] top-level scope",
      "   @ In[3]:32"
     ]
    }
   ],
   "source": [
    "#Fixed cost of plant (per power ($/MW])\n",
    "C_FC = [\n",
    "    # Solar\n",
    "    # Wind\n",
    "    # CCGT\n",
    "    # Coal\n",
    "    # Battery storage in Power\n",
    "    # Battery storage in energy\n",
    "] #column vector of size I (number of mean of production)\n",
    "\n",
    "# Fixed operation and maintenance cost (per power ($/MW])\n",
    "C_FOM = [\n",
    "    # Solar\n",
    "    # Wind\n",
    "    # CCGT\n",
    "    # Coal\n",
    "    # Battery storage in Power\n",
    "    # Battery storage in energy (might be equal to zero)\n",
    "]#column vector of size I (number of mean of production)\n",
    "\n",
    "# Variable operation and maintenance cost (per energy ($/MWh])\n",
    "C_VOM = [\n",
    "    # Solar (0)\n",
    "    # Wind (0)\n",
    "    # CCGT (Fuel Price ?)\n",
    "    # Coal (Fuel Price?)\n",
    "    # Battery storage in Power (0)\n",
    "    # Battery storage in energy (0)\n",
    "] #column vector of size I (number of mean of production)\n",
    "\n",
    "#Carbon intensity (tons of CO2 per MWh [ton/MWh])\n",
    "E_CO2 = = [\n",
    "    # Solar (0)\n",
    "    # Wind (0)\n",
    "    # CCGT (to be find)\n",
    "    # Coal (to be find)\n",
    "    # Battery storage in Power (0)\n",
    "    # Battery storage in energy (0)\n",
    "] # column vector of size I (number of mean of production)"
   ]
  },
  {
   "cell_type": "markdown",
   "metadata": {},
   "source": [
    "# Demand data"
   ]
  },
  {
   "cell_type": "code",
   "execution_count": null,
   "metadata": {},
   "outputs": [],
   "source": [
    "# Demand vector\n",
    "X_D = [\n",
    "    X_D_t1, # Energy demand at hour 1 in MW or in MWh (would be the same as we used a one hour time frame)\n",
    "    X_D_t2, \n",
    "    ...\n",
    "\n",
    "]\n",
    "\n",
    "# We would have to derive this vector with and without demand side flexibility"
   ]
  },
  {
   "cell_type": "markdown",
   "metadata": {},
   "source": [
    "# Availability for RE"
   ]
  },
  {
   "cell_type": "code",
   "execution_count": 3,
   "metadata": {},
   "outputs": [
    {
     "ename": "LoadError",
     "evalue": "UndefVarError: `lenght` not defined",
     "output_type": "error",
     "traceback": [
      "UndefVarError: `lenght` not defined",
      "",
      "Stacktrace:",
      " [1] top-level scope",
      "   @ In[3]:1"
     ]
    }
   ],
   "source": [
    "Availability =ones(lenght(hr_in_year), lenght(renewable_ls))\n",
    "\n",
    "# Availability[i, t] availability of the renewable i at the time t\n",
    "\n",
    "# i =1 => solar\n",
    "# i = 2 => wind"
   ]
  },
  {
   "cell_type": "markdown",
   "metadata": {},
   "source": [
    "# Read the CSV data"
   ]
  },
  {
   "cell_type": "code",
   "execution_count": 3,
   "metadata": {},
   "outputs": [],
   "source": [
    "fixed_cost = Matrix(CSV.read(\"fixed_cost.csv\",DataFrame))\n",
    "variable_cost = Matrix(CSV.read(\"variable_cost.csv\",DataFrame))\n",
    "demand = Matrix(CSV.read(\"demand.csv\", DataFrame))\n",
    "Availability_matrix = Matrix(CSV.read(\"Availability.csv\", DataFrame));"
   ]
  },
  {
   "cell_type": "code",
   "execution_count": 4,
   "metadata": {},
   "outputs": [
    {
     "data": {
      "text/plain": [
       "9×2 Matrix{Int64}:\n",
       "   10  250\n",
       "  104  250\n",
       " 1344  250\n",
       " 1434  250\n",
       "  334  250\n",
       "  334  250\n",
       " 4321  250\n",
       "  933  250\n",
       "  132  250"
      ]
     },
     "execution_count": 4,
     "metadata": {},
     "output_type": "execute_result"
    }
   ],
   "source": [
    "C_FC = fixed_cost[:,1]\n",
    "C_FOM = fixed_cost[:,2]\n",
    "C_VOM = variable_cost[:,1]\n",
    "E_CO2 = variable_cost[:,2]\n",
    "X_D = demand[:]\n",
    "Availability = Availability_matrix"
   ]
  },
  {
   "cell_type": "markdown",
   "metadata": {},
   "source": [
    "# Constant"
   ]
  },
  {
   "cell_type": "code",
   "execution_count": 5,
   "metadata": {},
   "outputs": [
    {
     "data": {
      "text/plain": [
       "100"
      ]
     },
     "execution_count": 5,
     "metadata": {},
     "output_type": "execute_result"
    }
   ],
   "source": [
    "eta = 0.8# Efficiency of the battery\n",
    "\n",
    "CO2_price = 100 # price of the CO2 per ton"
   ]
  },
  {
   "cell_type": "markdown",
   "metadata": {},
   "source": [
    "# Storage model"
   ]
  },
  {
   "cell_type": "code",
   "execution_count": 6,
   "metadata": {},
   "outputs": [
    {
     "data": {
      "text/plain": [
       "storage_state_of_charge (generic function with 1 method)"
      ]
     },
     "execution_count": 6,
     "metadata": {},
     "output_type": "execute_result"
    }
   ],
   "source": [
    "function storage_charge(x_g, x_d, x_soc, P_s, h, t)\n",
    "    # Charge of the battery\n",
    "\n",
    "    if x_g[t] > x_d[t]\n",
    "        # If the generation is above the demand we can charge\n",
    "        x_ch_t = minimum([eta * (x_g[t] - x_d[t]), eta * P_s * 1, (1 - x_soc[t])*h*P_s])\n",
    "        # We charge up to : the energy available above the demand, or the maximum battery capacity, or \n",
    "        # the available energy storage left in the battery\n",
    "    else\n",
    "        # If we don't have excess energy we don't charge\n",
    "        x_ch_t = 0\n",
    "    end\n",
    "    return x_ch_t\n",
    "end\n",
    "\n",
    "function storage_discharge(x_g, x_d, x_soc, P_s, h, t)\n",
    "        # Discharge of the battery\n",
    "        if x_g[t] < x_d[t]\n",
    "            # We discharge if the generation from the other sources is not enought\n",
    "            x_dch_t = minimum([(x_g[t] - x_d[t]), P_s * 1 , x_soc_t*h*P_s])\n",
    "        \n",
    "        else\n",
    "            # If we already have enough energy we don't discharge\n",
    "            x_dch_t = 0\n",
    "    \n",
    "        end\n",
    "    return x_dch_t\n",
    "end\n",
    "\n",
    "function storage_state_of_charge(x_g, x_d, x_soc, P_s, h, t)\n",
    "    # Computation of the state of charge \n",
    "    if t == 1\n",
    "        x_soc_t = 1 \n",
    "    \n",
    "    else\n",
    "        # State of charge can be computed from the previous state at t-1\n",
    "        x_soc_t = x_soc[t-1] + (x_ch[t-1] - x_dch[t-1])/(h*P_s)\n",
    "    end\n",
    "        \n",
    "return x_soc_t\n",
    "end\n"
   ]
  },
  {
   "cell_type": "code",
   "execution_count": 8,
   "metadata": {},
   "outputs": [
    {
     "data": {
      "text/plain": [
       "1"
      ]
     },
     "execution_count": 8,
     "metadata": {},
     "output_type": "execute_result"
    }
   ],
   "source": [
    "a = minimum([1,2,3])"
   ]
  },
  {
   "cell_type": "markdown",
   "metadata": {},
   "source": [
    "# Model Functions"
   ]
  },
  {
   "cell_type": "code",
   "execution_count": 14,
   "metadata": {},
   "outputs": [
    {
     "data": {
      "text/plain": [
       "cost_mix (generic function with 1 method)"
      ]
     },
     "execution_count": 14,
     "metadata": {},
     "output_type": "execute_result"
    }
   ],
   "source": [
    "function generation_non_storage(P, X, t)\n",
    "\n",
    "    println(\"Start generation non storage\")\n",
    "    #X_G_non_storage = ones(4,1)\n",
    "\n",
    "    # P[1] : Solar \n",
    "    println(\"Generation for solar\")\n",
    "    #Either we generate at the max capacity or at the max availability\n",
    "\n",
    "    #X_G_non_storage[1] = value(X[t,1])\n",
    "\n",
    "    # P[2] : Wind \n",
    "    println(\"Generation for wind\")\n",
    "    #Either we generate at the max capacity or at the max availability\n",
    "    #X_G_non_storage[2] = X[t,2]\n",
    "\n",
    "    # P[3] : CCGT \n",
    "    #print(X_ff[t, 1])\n",
    "    #X_G_non_storage[3] = X[t, 3]\n",
    "\n",
    "    # P[4] : Coal \n",
    "    #X_G_non_storage[4] =  X_ff[t, 4]\n",
    "    println(sum(X[t,i] for i in 1:4))\n",
    "    \n",
    "\n",
    "    \n",
    "    return sum(X[t,i] for i in 1:4)\n",
    "end\n",
    "\n",
    "function tot_generation(P, X, X_D)\n",
    "\n",
    "    #P = extract_values(P_var)\n",
    "    #X_ff = extract_values(X_ff_var)\n",
    "    println(\"Start tot generation\")\n",
    "    nb_hours = size(X_D, 1)\n",
    "    # Initialize the different variable to the number of hours considered\n",
    "    x_g = zeros(nb_hours,1)\n",
    "    x_d = X_D\n",
    "    x_soc = zeros(nb_hours,1)\n",
    "    x_ch = zeros(nb_hours,1)\n",
    "    x_dch = zeros(nb_hours,1)\n",
    "    X_G_tot = zeros(nb_hours,1)\n",
    "    \n",
    "    # The battery characteristic are P(5) the power of the battery\n",
    "    # P(5) the hour of storage of the battery\n",
    "    println(\"Size the battery\")\n",
    "    P_s = P[5]\n",
    "    h = P[6]\n",
    "\n",
    "    for t=1:nb_hours\n",
    "\n",
    "        #Generation without storage\n",
    "        println(\"Generation non storage\")\n",
    "        #x_g[t] =  generation_non_storage(P, X, t)\n",
    "        x_g[t] =  sum(X[t,i] for i in 1:4)\n",
    "\n",
    "        #State of charge of the battery\n",
    "        println(\"State of charge\")\n",
    "        x_soc[t] = storage_state_of_charge(x_g, x_d, x_soc, P_s, h, t)\n",
    "        \n",
    "        # How much do we charge the battery\n",
    "        println(\"Storage charge\")\n",
    "        x_ch[t] = storage_charge(x_g, x_d, x_soc, P_s, h, t)\n",
    "        \n",
    "        # How much do we discharge the battery\n",
    "        println(\"Storage discharge\")\n",
    "        x_dch[t] = storage_discharge(x_g, x_d, x_soc, P_s, h, t)\n",
    "        \n",
    "        # Total generation at time t\n",
    "        println(\"Total Generation\")\n",
    "        X_G_tot[t] = x_g[t] + x_dch[t]\n",
    "\n",
    "    end\n",
    "\n",
    "    return X_G_tot\n",
    "end\n",
    "\n",
    "function supply_demand_equilibrium_constraint(P, X, X_D)\n",
    "\n",
    "    #P = extract_values(P_var)\n",
    "    #X_ff = extract_values(X_ff_var)\n",
    "\n",
    "    println(\"Call tot_generation function\")\n",
    "    #Generation over all the hours\n",
    "    X_G_tot = tot_generation(P, X, X_D)\n",
    "    \n",
    "    println(\"initialize nb hours\")\n",
    "    #Number of hours where the supply needs to meet the demand\n",
    "    nb_hours = size(X_D,1)\n",
    "\n",
    "    # Compteur of the number of hours where the the supply meets the demand\n",
    "    compteur = 0 \n",
    "\n",
    "    println(\"Start loop over numbers of hours\")\n",
    "    for t = 1:nb_hours\n",
    "\n",
    "        if X_G_tot[t] >= X_D[t]\n",
    "            compteur = compteur + 1\n",
    "        end\n",
    "    end\n",
    "\n",
    "    return compteur\n",
    "end\n",
    "\n",
    "\n",
    "\n",
    "\n",
    "function cost_mix(P, X)\n",
    "    \n",
    "    # Function that compute the cost of the mix from all the cost\n",
    "    println(size(P,1))\n",
    "\n",
    "    println(size(X,2))\n",
    "    println(size(X,1))\n",
    "    # The generation for the fossil fuel is for the index 3 and 4 of X\n",
    "    cost = sum((C_FC[i] + C_FOM[i])*P[i] for i in 1:size(P,1)) + sum(sum((C_VOM[j] + CO2_price * E_CO2[j])* X[t,j+2] for j in 1:2) for t in 1:size(X,1)) \n",
    "end"
   ]
  },
  {
   "cell_type": "code",
   "execution_count": 10,
   "metadata": {},
   "outputs": [
    {
     "ename": "LoadError",
     "evalue": "UndefVarError: `Power_generation_ls` not defined",
     "output_type": "error",
     "traceback": [
      "UndefVarError: `Power_generation_ls` not defined",
      "",
      "Stacktrace:",
      " [1] top-level scope",
      "   @ In[10]:1"
     ]
    }
   ],
   "source": [
    "P = Power_generation_ls\n",
    "test = sum((C_FC[i] + C_FOM[i])*P[i] for i in 1:size(P,1))\n",
    "\n",
    "nb_hours = size(X_D, 1)\n",
    "X = ones(nb_hours, 2)\n",
    "sum(sum((C_VOM[j] + CO2_price * E_CO2[j])* X[t,j] for j in 1:size(X,2)) for t in 1:size(X,1)) \n"
   ]
  },
  {
   "attachments": {},
   "cell_type": "markdown",
   "metadata": {},
   "source": [
    "# Creating the model"
   ]
  },
  {
   "cell_type": "markdown",
   "metadata": {},
   "source": [
    "List of variable "
   ]
  },
  {
   "cell_type": "code",
   "execution_count": 8,
   "metadata": {},
   "outputs": [
    {
     "data": {
      "text/plain": [
       "1:9"
      ]
     },
     "execution_count": 8,
     "metadata": {},
     "output_type": "execute_result"
    }
   ],
   "source": [
    "Power_generation_ls = 1:6 # Solar, Wind, CCGT, Coal, Battery Power, Battery time\n",
    "\n",
    "fossil_fuel_ls = 1:2 # CCGT, Coal\n",
    "\n",
    "nb_hours_ls = 1:size(X_D,1)"
   ]
  },
  {
   "cell_type": "code",
   "execution_count": 16,
   "metadata": {},
   "outputs": [
    {
     "name": "stdout",
     "output_type": "stream",
     "text": [
      "Set parameter Username\n",
      "Academic license - for non-commercial use only - expires 2024-09-07\n",
      "6\n",
      "6\n",
      "9\n"
     ]
    },
    {
     "ename": "LoadError",
     "evalue": "LoadError: At In[16]:14: `@constraint(model, state_of_charge[t for t = nb_hours_ls], X[t, 5] = minimum([10, t]))`: Unsupported constraint expression: we don't know how to parse constraints containing expressions of type :typed_comprehension.\n\nIf you are writing a JuMP extension, implement `parse_constraint_head(::Function, ::Val{:typed_comprehension}, args...)\nin expression starting at In[16]:14",
     "output_type": "error",
     "traceback": [
      "LoadError: At In[16]:14: `@constraint(model, state_of_charge[t for t = nb_hours_ls], X[t, 5] = minimum([10, t]))`: Unsupported constraint expression: we don't know how to parse constraints containing expressions of type :typed_comprehension.\n\nIf you are writing a JuMP extension, implement `parse_constraint_head(::Function, ::Val{:typed_comprehension}, args...)\nin expression starting at In[16]:14",
      "",
      "Stacktrace:",
      " [1] error(::String, ::String)",
      "   @ Base ./error.jl:44",
      " [2] _macro_error(macroname::Symbol, args::Tuple{Symbol, Expr, Expr}, source::LineNumberNode, str::String)",
      "   @ JuMP ~/.julia/packages/JuMP/mvUVO/src/macros.jl:1956",
      " [3] (::JuMP.var\"#_error#84\"{Tuple{Symbol, Expr, Expr}, Symbol, LineNumberNode})(str::String)",
      "   @ JuMP ~/.julia/packages/JuMP/mvUVO/src/macros.jl:986",
      " [4] parse_constraint_head(::JuMP.var\"#_error#84\"{Tuple{Symbol, Expr, Expr}, Symbol, LineNumberNode}, ::Val{:typed_comprehension}, ::Symbol, ::Expr)",
      "   @ JuMP ~/.julia/packages/JuMP/mvUVO/src/macros.jl:457",
      " [5] parse_constraint",
      "   @ ~/.julia/packages/JuMP/mvUVO/src/macros.jl:413 [inlined]",
      " [6] _constraint_macro(args::Tuple{Symbol, Expr, Expr}, macro_name::Symbol, parsefun::typeof(parse_constraint), source::LineNumberNode)",
      "   @ JuMP ~/.julia/packages/JuMP/mvUVO/src/macros.jl:1058",
      " [7] var\"@constraint\"(__source__::LineNumberNode, __module__::Module, args::Vararg{Any})",
      "   @ JuMP ~/.julia/packages/JuMP/mvUVO/src/macros.jl:1175"
     ]
    }
   ],
   "source": [
    "model = Model(Gurobi.Optimizer)\n",
    "\n",
    "#The installed power of the mix\n",
    "@variable(model, P[Power_generation_ls] >= 0)\n",
    "\n",
    "# The \n",
    "#@variable(model, X_ff[nb_hours_ls, fossil_fuel_ls ] >= 0)\n",
    "\n",
    "@variable(model, X[nb_hours_ls, Power_generation_ls ] >= 0)\n",
    "\n",
    "# The cost of the mix assuming a certain carbon cost\n",
    "@objective(model, Min, cost_mix(P, X))\n",
    "\n",
    "@constraint(model, state_of_charge[t for t in nb_hours_ls], X[t, 5] = minimum([10, t]) )\n",
    "\n",
    "# The constraint is that supply meets demand at any hour\n",
    "@constraint(model, supply_demand, supply_demand_equilibrium_constraint(P, X, X_D) >= size(X_D,1))\n",
    "\n",
    "# Cannot produce more than the installed power\n",
    "@constraint(model, Solar[t for t in 1:nb_hours_ls], X[t,1] <= P[1])\n",
    "@constraint(model, Wind[t for t in 1:nb_hours_ls], X[t,2] <= P[2])\n",
    "@constraint(model, CCGT[t for t in 1:nb_hours_ls], X[t,3] <= P[3])\n",
    "@constraint(model, Coal[t for t in 1:nb_hours_ls], X[t,4] <= P[4])\n",
    "\n",
    "# Cannot produce more than availability for solar and wind \n",
    "@constraint(model, Solar_available[t for t in 1:nb_hours_ls], X[t,1] <= Availability[t,1])\n",
    "@constraint(model, Wind_available[t for t in 1:nb_hours_ls], X[t,2] <=  Availability[t,2])\n"
   ]
  },
  {
   "attachments": {},
   "cell_type": "markdown",
   "metadata": {},
   "source": [
    "Optimize\n",
    "\n"
   ]
  },
  {
   "cell_type": "code",
   "execution_count": 18,
   "metadata": {},
   "outputs": [
    {
     "name": "stdout",
     "output_type": "stream",
     "text": [
      "Gurobi Optimizer version 10.0.2 build v10.0.2rc0 (mac64[arm])\n",
      "\n",
      "CPU model: Apple M2\n",
      "Thread count: 8 physical cores, 8 logical processors, using up to 8 threads\n",
      "\n",
      "Optimize a model with 801 rows, 765 columns and 2265 nonzeros\n",
      "Model fingerprint: 0x0305a04b\n",
      "Variable types: 750 continuous, 15 integer (15 binary)\n",
      "Coefficient statistics:\n",
      "  Matrix range     [1e+00, 1e+06]\n",
      "  Objective range  [2e+00, 1e+02]\n",
      "  Bounds range     [0e+00, 0e+00]\n",
      "  RHS range        [5e+00, 2e+03]\n",
      "Presolve time: 0.01s\n",
      "Presolved: 801 rows, 765 columns, 2265 nonzeros\n",
      "Variable types: 750 continuous, 15 integer (15 binary)\n",
      "Found heuristic solution: objective 1026891.5990\n",
      "\n",
      "Root relaxation: objective 8.404875e+05, 136 iterations, 0.00 seconds (0.00 work units)\n",
      "\n",
      "    Nodes    |    Current Node    |     Objective Bounds      |     Work\n",
      " Expl Unexpl |  Obj  Depth IntInf | Incumbent    BestBd   Gap | It/Node Time\n",
      "\n",
      "*    0     0               0    840487.52400 840487.524  0.00%     -    0s\n",
      "\n",
      "Explored 1 nodes (136 simplex iterations) in 0.02 seconds (0.01 work units)\n",
      "Thread count was 8 (of 8 available processors)\n",
      "\n",
      "Solution count 2: 840488 1.02689e+06 \n",
      "\n",
      "Optimal solution found (tolerance 1.00e-04)\n",
      "Best objective 8.404875240013e+05, best bound 8.404875240013e+05, gap 0.0000%\n",
      "\n",
      "User-callback calls 168, time in user-callback 0.00 sec\n"
     ]
    }
   ],
   "source": [
    "optimize!(model)"
   ]
  },
  {
   "cell_type": "code",
   "execution_count": 19,
   "metadata": {},
   "outputs": [
    {
     "name": "stdout",
     "output_type": "stream",
     "text": [
      "840487.5240012797\n"
     ]
    }
   ],
   "source": [
    "opti_cost = objective_value(model)\n",
    "\n",
    "println(opti_cost)\n"
   ]
  },
  {
   "cell_type": "code",
   "execution_count": 21,
   "metadata": {},
   "outputs": [
    {
     "name": "stdout",
     "output_type": "stream",
     "text": [
      "(50, 15)\n",
      "[-0.0, 0.0, 1.0, 1.0, -0.0, -0.0, 1.0, -0.0, -0.0, -0.0, 0.0, 0.0, 1.0, 1.0, -0.0]\n"
     ]
    }
   ],
   "source": [
    "X_matrix = ones(size(X))\n",
    "\n",
    "\n",
    "for i in 1:size(X,1)\n",
    "    for j in 1:size(X,2)\n",
    "        X_matrix[i,j] = value(X[i,j])\n",
    "    end\n",
    "end\n",
    "println(size(X_matrix))\n",
    "\n",
    "\n",
    "Z_matrix = ones(size(Z))\n",
    "\n",
    "\n",
    "for i in 1:size(Z,1)\n",
    "\n",
    "    Z_matrix[i] = value(Z[i])\n",
    "\n",
    "end\n",
    "\n",
    "println(Z_matrix)"
   ]
  },
  {
   "attachments": {},
   "cell_type": "markdown",
   "metadata": {},
   "source": [
    "Number of customers served fully from the closest things"
   ]
  },
  {
   "cell_type": "code",
   "execution_count": 22,
   "metadata": {},
   "outputs": [
    {
     "name": "stdout",
     "output_type": "stream",
     "text": [
      "Any[2, 4, 9, 12, 13, 14, 17, 19, 20, 21, 22, 24, 28, 29, 31, 35, 36, 38, 43, 45, 46, 47, 51, 53, 54, 58, 59, 62, 64, 65, 66, 69, 70, 77, 78, 81, 82, 84, 88, 89, 92, 97, 98, 99, 101, 103, 104, 108, 112, 116, 118, 119, 120, 121, 122, 123, 124, 125, 127, 128, 130, 137, 138, 139, 140, 142, 143, 144, 145, 146, 153, 154, 157, 158, 160, 165, 167, 170, 171, 173, 175, 176, 177, 178, 179, 180, 182, 183, 184, 185, 187, 188, 190, 191, 195, 198, 201, 202, 204, 206, 207, 208, 210, 215, 216, 220, 224, 228, 229, 233, 236, 238, 239, 242, 243, 244, 246, 250, 259, 264, 265, 269, 270, 272, 275, 276, 279, 280, 283, 285, 287, 288, 290, 292, 305, 307, 308, 311, 313, 317, 318, 321, 322, 323, 326, 327, 328, 329, 334, 336, 337, 339, 340, 341, 342, 345, 346, 348, 351, 352, 357, 358, 360, 361, 362, 367, 368, 370, 371, 376, 377, 378, 379, 380, 381, 382, 384, 386, 393, 395, 399, 406, 411, 413, 416, 420, 422, 423, 424, 425, 429, 434, 435, 440, 444, 445, 451, 452, 453, 454, 455, 459, 460, 465, 468, 469, 471, 474, 477, 480, 481, 482, 484, 490, 491, 492, 493, 494, 496, 498]\n",
      "220\n"
     ]
    }
   ],
   "source": [
    "cust_closest = []\n",
    "nb_cst_closest = 0\n",
    "\n",
    "for i = customers_ls\n",
    "    if X_matrix[Int(ind_min[i]),i] >= customers[i,3]\n",
    "        cust_closest = [cust_closest; i]\n",
    "        nb_cst_closest = nb_cst_closest + 1\n",
    "    end\n",
    "end\n",
    "\n",
    "println(cust_closest)\n",
    "println(nb_cst_closest)"
   ]
  },
  {
   "cell_type": "code",
   "execution_count": 10,
   "metadata": {},
   "outputs": [
    {
     "name": "stdout",
     "output_type": "stream",
     "text": [
      "true\n",
      "[1, 3, 5, 6, 8, 10]\n"
     ]
    }
   ],
   "source": [
    "function ls_sum(X)\n",
    "    a = sum(X)\n",
    "\n",
    "    return a\n",
    "\n",
    "end\n",
    "\n",
    "X_test = [1, 3, 5, 6, 8, 10]\n",
    "\n",
    "println(ls_sum(X_test)>=4)\n",
    "\n",
    "if ls_sum(X_test) >= 4\n",
    "    println(X_test)\n",
    "end\n"
   ]
  },
  {
   "cell_type": "code",
   "execution_count": null,
   "metadata": {},
   "outputs": [],
   "source": []
  }
 ],
 "metadata": {
  "kernelspec": {
   "display_name": "Julia 1.9.3",
   "language": "julia",
   "name": "julia-1.9"
  },
  "language_info": {
   "file_extension": ".jl",
   "mimetype": "application/julia",
   "name": "julia",
   "version": "1.9.3"
  },
  "orig_nbformat": 4
 },
 "nbformat": 4,
 "nbformat_minor": 2
}
