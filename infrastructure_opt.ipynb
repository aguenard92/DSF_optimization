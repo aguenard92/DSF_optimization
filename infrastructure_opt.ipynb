{
 "cells": [
  {
   "attachments": {},
   "cell_type": "markdown",
   "metadata": {},
   "source": [
    "# Demand side flexibility\n"
   ]
  },
  {
   "cell_type": "code",
   "execution_count": 1,
   "metadata": {},
   "outputs": [
    {
     "name": "stderr",
     "output_type": "stream",
     "text": [
      "\u001b[32m\u001b[1m   Resolving\u001b[22m\u001b[39m package versions...\n",
      "\u001b[32m\u001b[1m  No Changes\u001b[22m\u001b[39m to `~/.julia/environments/v1.9/Project.toml`\n",
      "\u001b[32m\u001b[1m  No Changes\u001b[22m\u001b[39m to `~/.julia/environments/v1.9/Manifest.toml`\n",
      "\u001b[32m\u001b[1m   Resolving\u001b[22m\u001b[39m package versions...\n",
      "\u001b[32m\u001b[1m  No Changes\u001b[22m\u001b[39m to `~/.julia/environments/v1.9/Project.toml`\n",
      "\u001b[32m\u001b[1m  No Changes\u001b[22m\u001b[39m to `~/.julia/environments/v1.9/Manifest.toml`\n",
      "\u001b[32m\u001b[1m   Resolving\u001b[22m\u001b[39m package versions...\n",
      "\u001b[32m\u001b[1m  No Changes\u001b[22m\u001b[39m to `~/.julia/environments/v1.9/Project.toml`\n",
      "\u001b[32m\u001b[1m  No Changes\u001b[22m\u001b[39m to `~/.julia/environments/v1.9/Manifest.toml`\n",
      "\u001b[32m\u001b[1m   Resolving\u001b[22m\u001b[39m package versions...\n",
      "\u001b[32m\u001b[1m  No Changes\u001b[22m\u001b[39m to `~/.julia/environments/v1.9/Project.toml`\n",
      "\u001b[32m\u001b[1m  No Changes\u001b[22m\u001b[39m to `~/.julia/environments/v1.9/Manifest.toml`\n"
     ]
    }
   ],
   "source": [
    "using Pkg\n",
    "Pkg.add(\"CSV\")\n",
    "Pkg.add(\"DataFrames\")\n",
    "Pkg.add(\"JuMP\")\n",
    "Pkg.add(\"Gurobi\")"
   ]
  },
  {
   "cell_type": "code",
   "execution_count": 2,
   "metadata": {},
   "outputs": [],
   "source": [
    "using CSV, DataFrames, JuMP, Gurobi"
   ]
  },
  {
   "attachments": {},
   "cell_type": "markdown",
   "metadata": {},
   "source": [
    "# Cost of the technologies"
   ]
  },
  {
   "cell_type": "code",
   "execution_count": 3,
   "metadata": {},
   "outputs": [],
   "source": [
    "#Fixed cost of plant (per power [$/MW])\n",
    "C_FC = [\n",
    "    # Solar\n",
    "    # Wind\n",
    "    # CCGT\n",
    "    # Coal\n",
    "    # Battery storage in Power\n",
    "    # Battery storage in energy\n",
    "] #column vector of size I (number of mean of production)\n",
    "\n",
    "# Fixed operation and maintenance cost (per power [$/MW])\n",
    "C_FOM = [\n",
    "    # Solar\n",
    "    # Wind\n",
    "    # CCGT\n",
    "    # Coal\n",
    "    # Battery storage in Power\n",
    "    # Battery storage in energy (might be equal to zero)\n",
    "]#column vector of size I (number of mean of production)\n",
    "\n",
    "# Variable operation and maintenance cost (per energy [$/MWh])\n",
    "C_VOM = [\n",
    "    # Solar (0)\n",
    "    # Wind (0)\n",
    "    # CCGT (Fuel Price ?)\n",
    "    # Coal (Fuel Price?)\n",
    "    # Battery storage in Power (0)\n",
    "    # Battery storage in energy (0)\n",
    "] #column vector of size I (number of mean of production)\n",
    "\n",
    "#Carbon intensity (tons of CO2 per MWh [ton/MWh])\n",
    "E_CO2 = = [\n",
    "    # Solar (0)\n",
    "    # Wind (0)\n",
    "    # CCGT (to be find)\n",
    "    # Coal (to be find)\n",
    "    # Battery storage in Power (0)\n",
    "    # Battery storage in energy (0)\n",
    "] # column vector of size I (number of mean of production)"
   ]
  },
  {
   "cell_type": "markdown",
   "metadata": {},
   "source": [
    "# Demand data"
   ]
  },
  {
   "cell_type": "code",
   "execution_count": null,
   "metadata": {},
   "outputs": [],
   "source": [
    "# Demand vector\n",
    "X_D = [\n",
    "    X_D_t1, # Energy demand at hour 1 in MW or in MWh (would be the same as we used a one hour time frame)\n",
    "    X_D_t2, \n",
    "    ...\n",
    "\n",
    "]\n",
    "\n",
    "# We would have to derive this vector with and without demand side flexibility"
   ]
  },
  {
   "cell_type": "markdown",
   "metadata": {},
   "source": [
    "# Availability for RE"
   ]
  },
  {
   "cell_type": "code",
   "execution_count": null,
   "metadata": {},
   "outputs": [],
   "source": [
    "Availability =ones(lenght(renewable_ls), lenght(hr_in_year))\n",
    "\n",
    "# Availability[i, t] availability of the renewable i at the time t\n",
    "\n",
    "# i =1 => solar\n",
    "# i = 2 => wind"
   ]
  },
  {
   "cell_type": "markdown",
   "metadata": {},
   "source": [
    "# Constant"
   ]
  },
  {
   "cell_type": "code",
   "execution_count": null,
   "metadata": {},
   "outputs": [],
   "source": [
    "eta = # Efficiency of the battery\n",
    "\n",
    "CO2_price = # price of the CO2 per ton"
   ]
  },
  {
   "cell_type": "markdown",
   "metadata": {},
   "source": [
    "# Storage model"
   ]
  },
  {
   "cell_type": "code",
   "execution_count": null,
   "metadata": {},
   "outputs": [],
   "source": [
    "function storage_charge(x_g, x_d, x_soc, P_s, h, t)\n",
    "    # Charge of the battery\n",
    "\n",
    "    if x_g[t] > x_d[t]\n",
    "        # If the generation is above the demand we can charge\n",
    "        x_ch[t] = minimum([eta * (x_g[t] - x_d[t]), eta * P_s * 1, (1 - x_soc[t])*h*P_s])\n",
    "        # We charge up to : the energy available above the demand, or the maximum battery capacity, or \n",
    "        # the available energy storage left in the battery\n",
    "    else\n",
    "        # If we don't have excess energy we don't charge\n",
    "        x_ch[t] = 0\n",
    "    end\n",
    "    return x_ch[t]\n",
    "end\n",
    "\n",
    "function storage_discharge(x_g, x_d, x_soc, P_s, h, t)\n",
    "        # Discharge of the battery\n",
    "        if x_g[t] < x_d[t]\n",
    "            # We discharge if the generation from the other sources is not enought\n",
    "            x_dch[t] = minimum([(x_g[t] - x_d[t]), P_s * 1 , x_soc_t*h*P_s])\n",
    "        \n",
    "        else\n",
    "            # If we already have enough energy we don't discharge\n",
    "            x_dch[t] = 0\n",
    "    \n",
    "        end\n",
    "    return x_dch[t]\n",
    "end\n",
    "\n",
    "function storage_state_of_charge(x_g, x_d, x_soc, P_s, h, t)\n",
    "    # Computation of the state of charge \n",
    "    if t == 1\n",
    "        x_soc[t] = 1 \n",
    "    \n",
    "    else\n",
    "        # State of charge can be computed from the previous state at t-1\n",
    "        x_soc[t] = x_soc[t-1] + (x_ch[t-1] - x_dch[t-1])/(h*P_s)\n",
    "    end\n",
    "        \n",
    "return x_soc[t]\n",
    "end\n"
   ]
  },
  {
   "cell_type": "markdown",
   "metadata": {},
   "source": [
    "# Model Functions"
   ]
  },
  {
   "cell_type": "code",
   "execution_count": null,
   "metadata": {},
   "outputs": [],
   "source": [
    "function generation_non_storage(P, X_ff ,Availability, t)\n",
    "\n",
    "    # P[1] : Solar \n",
    "    #Either we generate at the max capacity or at the max availability\n",
    "    X_G_non_storage[1] = minimum([P[1] * 1 , Availability[1, t] * 1])\n",
    "\n",
    "    # P[2] : Wind \n",
    "    #Either we generate at the max capacity or at the max availability\n",
    "    X_G_non_storage[2] = minimum([P[2] * 1 , Availability[2, t] * 1])\n",
    "\n",
    "    # P[3] : CCGT \n",
    "    X_G_non_storage[3] = minimum([P[3] * 1 , X_ff[1, t]])\n",
    "\n",
    "    # P[4] : Coal \n",
    "    X_G_non_storage[3] = minimum([P[4] * 1 , X_ff[2, t]])\n",
    "\n",
    "    x_g[t] = sum(X_G_non_storage)\n",
    "end\n",
    "\n",
    "function cost_mix(P, X)\n",
    "    # Function that compute the cost of the mix from all the cost\n",
    "    cost = sum((C_FC[i] + C_FOM[i])*P[i] for i in 1:size(P,1)) + sum(sum((C_VOM[i] + CO2_price * E_CO2)* X[i,t] for i in 1:size(X,1)) for t in 1:size(X,2)) "
   ]
  },
  {
   "attachments": {},
   "cell_type": "markdown",
   "metadata": {},
   "source": [
    "# Creating the model"
   ]
  },
  {
   "cell_type": "markdown",
   "metadata": {},
   "source": [
    "List of variable "
   ]
  },
  {
   "cell_type": "code",
   "execution_count": null,
   "metadata": {},
   "outputs": [],
   "source": [
    "Power_generation_ls = 1:6 # Solar, Wind, CCGT, Coal, Battery Power, Battery time\n",
    "\n",
    "fossil_fuel_ls = 1:2 # CCGT, Coal"
   ]
  },
  {
   "cell_type": "code",
   "execution_count": 17,
   "metadata": {},
   "outputs": [
    {
     "name": "stdout",
     "output_type": "stream",
     "text": [
      "Set parameter Username\n",
      "Academic license - for non-commercial use only - expires 2024-09-07\n"
     ]
    }
   ],
   "source": [
    "model = Model(Gurobi.Optimizer)\n",
    "\n",
    "@variable(model, P[Power_generation_ls] >= 0)\n",
    "\n",
    "@variable(model, X_ff[fossil_fuel_ls] >= 0)\n",
    "\n",
    "@objective(model, Min, sum(sum(d[i,j]* X[i,j] for j in landfills_ls) for i in centers_ls))\n",
    "\n",
    "@constraint(model, waste_manegement[i in centers_ls], sum(X[i,j] for j in landfills_ls)  == q[i])\n",
    "\n",
    "@constraint(model, [i = centers_ls, j = landfills_ls], X[i,j]   <= 1000000 * Z[j])\n",
    "\n",
    "@constraint(model, landfills_construnction, sum(Z[j] for j in landfills_ls)   <= 5);"
   ]
  },
  {
   "attachments": {},
   "cell_type": "markdown",
   "metadata": {},
   "source": [
    "Optimize\n",
    "\n"
   ]
  },
  {
   "cell_type": "code",
   "execution_count": 18,
   "metadata": {},
   "outputs": [
    {
     "name": "stdout",
     "output_type": "stream",
     "text": [
      "Gurobi Optimizer version 10.0.2 build v10.0.2rc0 (mac64[arm])\n",
      "\n",
      "CPU model: Apple M2\n",
      "Thread count: 8 physical cores, 8 logical processors, using up to 8 threads\n",
      "\n",
      "Optimize a model with 801 rows, 765 columns and 2265 nonzeros\n",
      "Model fingerprint: 0x0305a04b\n",
      "Variable types: 750 continuous, 15 integer (15 binary)\n",
      "Coefficient statistics:\n",
      "  Matrix range     [1e+00, 1e+06]\n",
      "  Objective range  [2e+00, 1e+02]\n",
      "  Bounds range     [0e+00, 0e+00]\n",
      "  RHS range        [5e+00, 2e+03]\n",
      "Presolve time: 0.01s\n",
      "Presolved: 801 rows, 765 columns, 2265 nonzeros\n",
      "Variable types: 750 continuous, 15 integer (15 binary)\n",
      "Found heuristic solution: objective 1026891.5990\n",
      "\n",
      "Root relaxation: objective 8.404875e+05, 136 iterations, 0.00 seconds (0.00 work units)\n",
      "\n",
      "    Nodes    |    Current Node    |     Objective Bounds      |     Work\n",
      " Expl Unexpl |  Obj  Depth IntInf | Incumbent    BestBd   Gap | It/Node Time\n",
      "\n",
      "*    0     0               0    840487.52400 840487.524  0.00%     -    0s\n",
      "\n",
      "Explored 1 nodes (136 simplex iterations) in 0.02 seconds (0.01 work units)\n",
      "Thread count was 8 (of 8 available processors)\n",
      "\n",
      "Solution count 2: 840488 1.02689e+06 \n",
      "\n",
      "Optimal solution found (tolerance 1.00e-04)\n",
      "Best objective 8.404875240013e+05, best bound 8.404875240013e+05, gap 0.0000%\n",
      "\n",
      "User-callback calls 168, time in user-callback 0.00 sec\n"
     ]
    }
   ],
   "source": [
    "optimize!(model)"
   ]
  },
  {
   "cell_type": "code",
   "execution_count": 19,
   "metadata": {},
   "outputs": [
    {
     "name": "stdout",
     "output_type": "stream",
     "text": [
      "840487.5240012797\n"
     ]
    }
   ],
   "source": [
    "opti_cost = objective_value(model)\n",
    "\n",
    "println(opti_cost)\n"
   ]
  },
  {
   "cell_type": "code",
   "execution_count": 21,
   "metadata": {},
   "outputs": [
    {
     "name": "stdout",
     "output_type": "stream",
     "text": [
      "(50, 15)\n",
      "[-0.0, 0.0, 1.0, 1.0, -0.0, -0.0, 1.0, -0.0, -0.0, -0.0, 0.0, 0.0, 1.0, 1.0, -0.0]\n"
     ]
    }
   ],
   "source": [
    "X_matrix = ones(size(X))\n",
    "\n",
    "\n",
    "for i in 1:size(X,1)\n",
    "    for j in 1:size(X,2)\n",
    "        X_matrix[i,j] = value(X[i,j])\n",
    "    end\n",
    "end\n",
    "println(size(X_matrix))\n",
    "\n",
    "\n",
    "Z_matrix = ones(size(Z))\n",
    "\n",
    "\n",
    "for i in 1:size(Z,1)\n",
    "\n",
    "    Z_matrix[i] = value(Z[i])\n",
    "\n",
    "end\n",
    "\n",
    "println(Z_matrix)"
   ]
  },
  {
   "attachments": {},
   "cell_type": "markdown",
   "metadata": {},
   "source": [
    "Number of customers served fully from the closest things"
   ]
  },
  {
   "cell_type": "code",
   "execution_count": 22,
   "metadata": {},
   "outputs": [
    {
     "name": "stdout",
     "output_type": "stream",
     "text": [
      "Any[2, 4, 9, 12, 13, 14, 17, 19, 20, 21, 22, 24, 28, 29, 31, 35, 36, 38, 43, 45, 46, 47, 51, 53, 54, 58, 59, 62, 64, 65, 66, 69, 70, 77, 78, 81, 82, 84, 88, 89, 92, 97, 98, 99, 101, 103, 104, 108, 112, 116, 118, 119, 120, 121, 122, 123, 124, 125, 127, 128, 130, 137, 138, 139, 140, 142, 143, 144, 145, 146, 153, 154, 157, 158, 160, 165, 167, 170, 171, 173, 175, 176, 177, 178, 179, 180, 182, 183, 184, 185, 187, 188, 190, 191, 195, 198, 201, 202, 204, 206, 207, 208, 210, 215, 216, 220, 224, 228, 229, 233, 236, 238, 239, 242, 243, 244, 246, 250, 259, 264, 265, 269, 270, 272, 275, 276, 279, 280, 283, 285, 287, 288, 290, 292, 305, 307, 308, 311, 313, 317, 318, 321, 322, 323, 326, 327, 328, 329, 334, 336, 337, 339, 340, 341, 342, 345, 346, 348, 351, 352, 357, 358, 360, 361, 362, 367, 368, 370, 371, 376, 377, 378, 379, 380, 381, 382, 384, 386, 393, 395, 399, 406, 411, 413, 416, 420, 422, 423, 424, 425, 429, 434, 435, 440, 444, 445, 451, 452, 453, 454, 455, 459, 460, 465, 468, 469, 471, 474, 477, 480, 481, 482, 484, 490, 491, 492, 493, 494, 496, 498]\n",
      "220\n"
     ]
    }
   ],
   "source": [
    "cust_closest = []\n",
    "nb_cst_closest = 0\n",
    "\n",
    "for i = customers_ls\n",
    "    if X_matrix[Int(ind_min[i]),i] >= customers[i,3]\n",
    "        cust_closest = [cust_closest; i]\n",
    "        nb_cst_closest = nb_cst_closest + 1\n",
    "    end\n",
    "end\n",
    "\n",
    "println(cust_closest)\n",
    "println(nb_cst_closest)"
   ]
  },
  {
   "cell_type": "code",
   "execution_count": null,
   "metadata": {},
   "outputs": [],
   "source": []
  }
 ],
 "metadata": {
  "kernelspec": {
   "display_name": "Julia 1.9.3",
   "language": "julia",
   "name": "julia-1.9"
  },
  "language_info": {
   "file_extension": ".jl",
   "mimetype": "application/julia",
   "name": "julia",
   "version": "1.9.3"
  },
  "orig_nbformat": 4
 },
 "nbformat": 4,
 "nbformat_minor": 2
}
