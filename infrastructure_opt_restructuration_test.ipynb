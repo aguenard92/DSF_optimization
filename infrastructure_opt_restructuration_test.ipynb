{
 "cells": [
  {
   "attachments": {},
   "cell_type": "markdown",
   "metadata": {},
   "source": [
    "# Demand side flexibility\n"
   ]
  },
  {
   "cell_type": "code",
   "execution_count": 1,
   "metadata": {},
   "outputs": [
    {
     "name": "stderr",
     "output_type": "stream",
     "text": [
      "\u001b[32m\u001b[1m   Resolving\u001b[22m\u001b[39m package versions...\n",
      "\u001b[32m\u001b[1m  No Changes\u001b[22m\u001b[39m to `~/.julia/environments/v1.9/Project.toml`\n",
      "\u001b[32m\u001b[1m  No Changes\u001b[22m\u001b[39m to `~/.julia/environments/v1.9/Manifest.toml`\n",
      "\u001b[32m\u001b[1m   Resolving\u001b[22m\u001b[39m package versions...\n",
      "\u001b[32m\u001b[1m  No Changes\u001b[22m\u001b[39m to `~/.julia/environments/v1.9/Project.toml`\n",
      "\u001b[32m\u001b[1m  No Changes\u001b[22m\u001b[39m to `~/.julia/environments/v1.9/Manifest.toml`\n",
      "\u001b[32m\u001b[1m   Resolving\u001b[22m\u001b[39m package versions...\n",
      "\u001b[32m\u001b[1m  No Changes\u001b[22m\u001b[39m to `~/.julia/environments/v1.9/Project.toml`\n",
      "\u001b[32m\u001b[1m  No Changes\u001b[22m\u001b[39m to `~/.julia/environments/v1.9/Manifest.toml`\n",
      "\u001b[32m\u001b[1m   Resolving\u001b[22m\u001b[39m package versions...\n",
      "\u001b[32m\u001b[1m  No Changes\u001b[22m\u001b[39m to `~/.julia/environments/v1.9/Project.toml`\n",
      "\u001b[32m\u001b[1m  No Changes\u001b[22m\u001b[39m to `~/.julia/environments/v1.9/Manifest.toml`\n"
     ]
    }
   ],
   "source": [
    "using Pkg\n",
    "Pkg.add(\"CSV\")\n",
    "Pkg.add(\"DataFrames\")\n",
    "Pkg.add(\"JuMP\")\n",
    "Pkg.add(\"Gurobi\")\n",
    "#Pkg.add(\"NLopt\")"
   ]
  },
  {
   "cell_type": "code",
   "execution_count": 2,
   "metadata": {},
   "outputs": [],
   "source": [
    "using CSV, DataFrames, JuMP, Gurobi"
   ]
  },
  {
   "cell_type": "markdown",
   "metadata": {},
   "source": [
    "# Read the CSV data"
   ]
  },
  {
   "cell_type": "code",
   "execution_count": 3,
   "metadata": {},
   "outputs": [],
   "source": [
    "#fixed_cost = Matrix(CSV.read(\"/Users/adrienguenard/Desktop/MIT/2.AeroAstro/IDS.522/Project/1.WIP/DSF/test_data/fixed_cost.csv\",DataFrame))\n",
    "#variable_cost = Matrix(CSV.read(\"/Users/adrienguenard/Desktop/MIT/2.AeroAstro/IDS.522/Project/1.WIP/DSF/test_data/variable_cost.csv\",DataFrame))\n",
    "#demand = Matrix(CSV.read(\"/Users/adrienguenard/Desktop/MIT/2.AeroAstro/IDS.522/Project/1.WIP/DSF/test_data/demand.csv\", DataFrame))\n",
    "#Availability_matrix = Matrix(CSV.read(\"/Users/adrienguenard/Desktop/MIT/2.AeroAstro/IDS.522/Project/1.WIP/DSF/test_data/availability.csv\", DataFrame));"
   ]
  },
  {
   "cell_type": "code",
   "execution_count": 4,
   "metadata": {},
   "outputs": [],
   "source": [
    "fixed_cost = Matrix(CSV.read(\"fixed_cost.csv\",DataFrame))\n",
    "variable_cost = Matrix(CSV.read(\"variable_cost.csv\",DataFrame))\n",
    "demand = Matrix(CSV.read(\"demand.csv\", DataFrame))\n",
    "Availability_matrix = Matrix(CSV.read(\"Availability.csv\", DataFrame));"
   ]
  },
  {
   "cell_type": "code",
   "execution_count": 5,
   "metadata": {},
   "outputs": [
    {
     "data": {
      "text/plain": [
       "10×2 Matrix{Float64}:\n",
       " 0.00393802  0.53339\n",
       " 0.0         0.513005\n",
       " 0.0         0.518819\n",
       " 0.0         0.481426\n",
       " 0.0         0.475112\n",
       " 0.0         0.469125\n",
       " 0.0         0.468391\n",
       " 0.0         0.453982\n",
       " 0.0         0.411274\n",
       " 0.0         0.376903"
      ]
     },
     "execution_count": 5,
     "metadata": {},
     "output_type": "execute_result"
    }
   ],
   "source": [
    "C_FC = fixed_cost[:,1]\n",
    "C_FOM = fixed_cost[:,2]\n",
    "C_VOM = variable_cost[:,1]\n",
    "E_CO2 = variable_cost[:,2]\n",
    "X_D = demand[1:10]\n",
    "Availability = Availability_matrix[1:10,1:2]"
   ]
  },
  {
   "cell_type": "markdown",
   "metadata": {},
   "source": [
    "# Constant"
   ]
  },
  {
   "cell_type": "code",
   "execution_count": 6,
   "metadata": {},
   "outputs": [
    {
     "data": {
      "text/plain": [
       "0.8"
      ]
     },
     "execution_count": 6,
     "metadata": {},
     "output_type": "execute_result"
    }
   ],
   "source": [
    "eta = 0.8# Efficiency of the battery\n",
    "\n"
   ]
  },
  {
   "cell_type": "markdown",
   "metadata": {},
   "source": [
    "# Storage model"
   ]
  },
  {
   "cell_type": "code",
   "execution_count": 7,
   "metadata": {},
   "outputs": [
    {
     "data": {
      "text/plain": [
       "storage_state_of_charge (generic function with 1 method)"
      ]
     },
     "execution_count": 7,
     "metadata": {},
     "output_type": "execute_result"
    }
   ],
   "source": [
    "function storage_charge(x_g, x_d, x_soc, P_s, h, t)\n",
    "    # Charge of the battery\n",
    "\n",
    "    if x_g[t] > x_d[t]\n",
    "        # If the generation is above the demand we can charge\n",
    "        x_ch_t = minimum([eta * (x_g[t] - x_d[t]), eta * P_s * 1, (1 - x_soc[t])*h*P_s])\n",
    "        # We charge up to : the energy available above the demand, or the maximum battery capacity, or \n",
    "        # the available energy storage left in the battery\n",
    "    else\n",
    "        # If we don't have excess energy we don't charge\n",
    "        x_ch_t = 0\n",
    "    end\n",
    "    return x_ch_t\n",
    "end\n",
    "\n",
    "function storage_discharge(x_g, x_d, x_soc, P_s, h, t)\n",
    "        # Discharge of the battery\n",
    "        if x_g[t] < x_d[t]\n",
    "            # We discharge if the generation from the other sources is not enought\n",
    "            x_dch_t = minimum([(x_g[t] - x_d[t]), P_s * 1 , x_soc_t*h*P_s])\n",
    "        \n",
    "        else\n",
    "            # If we already have enough energy we don't discharge\n",
    "            x_dch_t = 0\n",
    "    \n",
    "        end\n",
    "    return x_dch_t\n",
    "end\n",
    "\n",
    "function storage_state_of_charge(x_g, x_d, x_soc, P_s, h, t)\n",
    "    # Computation of the state of charge \n",
    "    if t == 1\n",
    "        x_soc_t = 1 \n",
    "    \n",
    "    else\n",
    "        # State of charge can be computed from the previous state at t-1\n",
    "        x_soc_t = x_soc[t-1] + (x_ch[t-1] - x_dch[t-1])/(h*P_s)\n",
    "    end\n",
    "        \n",
    "return x_soc_t\n",
    "end\n"
   ]
  },
  {
   "cell_type": "markdown",
   "metadata": {},
   "source": [
    "# Model Functions"
   ]
  },
  {
   "cell_type": "code",
   "execution_count": 8,
   "metadata": {},
   "outputs": [
    {
     "data": {
      "text/plain": [
       "cost_mix (generic function with 1 method)"
      ]
     },
     "execution_count": 8,
     "metadata": {},
     "output_type": "execute_result"
    }
   ],
   "source": [
    "function generation_non_storage(P, X, t)\n",
    "\n",
    "    println(\"Start generation non storage\")\n",
    "    #X_G_non_storage = ones(4,1)\n",
    "\n",
    "    # P[1] : Solar \n",
    "    println(\"Generation for solar\")\n",
    "    #Either we generate at the max capacity or at the max availability\n",
    "\n",
    "    #X_G_non_storage[1] = value(X[t,1])\n",
    "\n",
    "    # P[2] : Wind \n",
    "    println(\"Generation for wind\")\n",
    "    #Either we generate at the max capacity or at the max availability\n",
    "    #X_G_non_storage[2] = X[t,2]\n",
    "\n",
    "    # P[3] : CCGT \n",
    "    #print(X_ff[t, 1])\n",
    "    #X_G_non_storage[3] = X[t, 3]\n",
    "\n",
    "    # P[4] : Coal \n",
    "    #X_G_non_storage[4] =  X_ff[t, 4]\n",
    "    println(sum(X[t,i] for i in 1:4))\n",
    "    \n",
    "\n",
    "    \n",
    "    return sum(X[t,i] for i in 1:4)\n",
    "end\n",
    "\n",
    "function tot_generation(P, X, X_D)\n",
    "\n",
    "    #P = extract_values(P_var)\n",
    "    #X_ff = extract_values(X_ff_var)\n",
    "    println(\"Start tot generation\")\n",
    "    nb_hours = size(X_D, 1)\n",
    "    # Initialize the different variable to the number of hours considered\n",
    "    x_g = zeros(nb_hours,1)\n",
    "    x_d = X_D\n",
    "    x_soc = zeros(nb_hours,1)\n",
    "    x_ch = zeros(nb_hours,1)\n",
    "    x_dch = zeros(nb_hours,1)\n",
    "    X_G_tot = zeros(nb_hours,1)\n",
    "    \n",
    "    # The battery characteristic are P(5) the power of the battery\n",
    "    # P(5) the hour of storage of the battery\n",
    "    println(\"Size the battery\")\n",
    "    P_s = P[5]\n",
    "    h = P[6]\n",
    "\n",
    "    for t=1:nb_hours\n",
    "\n",
    "        #Generation without storage\n",
    "        println(\"Generation non storage\")\n",
    "        #x_g[t] =  generation_non_storage(P, X, t)\n",
    "        x_g[t] =  sum(X[t,i] for i in 1:4)\n",
    "\n",
    "        #State of charge of the battery\n",
    "        println(\"State of charge\")\n",
    "        x_soc[t] = storage_state_of_charge(x_g, x_d, x_soc, P_s, h, t)\n",
    "        \n",
    "        # How much do we charge the battery\n",
    "        println(\"Storage charge\")\n",
    "        x_ch[t] = storage_charge(x_g, x_d, x_soc, P_s, h, t)\n",
    "        \n",
    "        # How much do we discharge the battery\n",
    "        println(\"Storage discharge\")\n",
    "        x_dch[t] = storage_discharge(x_g, x_d, x_soc, P_s, h, t)\n",
    "        \n",
    "        # Total generation at time t\n",
    "        println(\"Total Generation\")\n",
    "        X_G_tot[t] = x_g[t] + x_dch[t]\n",
    "\n",
    "    end\n",
    "\n",
    "    return X_G_tot\n",
    "end\n",
    "\n",
    "function supply_demand_equilibrium_constraint(P, X, X_D)\n",
    "\n",
    "    #P = extract_values(P_var)\n",
    "    #X_ff = extract_values(X_ff_var)\n",
    "\n",
    "    println(\"Call tot_generation function\")\n",
    "    #Generation over all the hours\n",
    "    X_G_tot = tot_generation(P, X, X_D)\n",
    "    \n",
    "    println(\"initialize nb hours\")\n",
    "    #Number of hours where the supply needs to meet the demand\n",
    "    nb_hours = size(X_D,1)\n",
    "\n",
    "    # Compteur of the number of hours where the the supply meets the demand\n",
    "    compteur = 0 \n",
    "\n",
    "    println(\"Start loop over numbers of hours\")\n",
    "    for t = 1:nb_hours\n",
    "\n",
    "        if X_G_tot[t] >= X_D[t]\n",
    "            compteur = compteur + 1\n",
    "        end\n",
    "    end\n",
    "\n",
    "    return compteur\n",
    "end\n",
    "\n",
    "\n",
    "\n",
    "\n",
    "function cost_mix(P, X)\n",
    "    CO2_price = 1000000 # price of the CO2 per ton\n",
    "    # The generation for the fossil fuel is for the index 3 and 4 of X\n",
    "    print(sum((C_FC[i] + C_FOM[i])*P[i] for i in 1:size(P,1)))\n",
    "    cost = sum((C_FC[i] + C_FOM[i])*P[i] for i in 1:size(P,1)) \n",
    "                sum(sum((C_VOM[j] + CO2_price * E_CO2[j])* X[t,j+2] for j in 1:2) for t in 1:size(X,1)) \n",
    "    return cost\n",
    "end"
   ]
  },
  {
   "attachments": {},
   "cell_type": "markdown",
   "metadata": {},
   "source": [
    "# Creating the model"
   ]
  },
  {
   "cell_type": "markdown",
   "metadata": {},
   "source": [
    "List of variable "
   ]
  },
  {
   "cell_type": "code",
   "execution_count": 9,
   "metadata": {},
   "outputs": [
    {
     "data": {
      "text/plain": [
       "2"
      ]
     },
     "execution_count": 9,
     "metadata": {},
     "output_type": "execute_result"
    }
   ],
   "source": [
    "Power_generation_ls = 1:5 # Solar, Wind, CCGT, Coal, Battery\n",
    "\n",
    "fossil_fuel_ls = 1:2 # CCGT, Coal\n",
    "\n",
    "nb_hours_ls = 1:size(X_D,1)\n",
    "\n",
    "H = 2"
   ]
  },
  {
   "cell_type": "code",
   "execution_count": 10,
   "metadata": {},
   "outputs": [
    {
     "name": "stdout",
     "output_type": "stream",
     "text": [
      "Set parameter Username\n",
      "Academic license - for non-commercial use only - expires 2024-09-07\n",
      "Set parameter NonConvex to value 2\n"
     ]
    }
   ],
   "source": [
    "model = Model(Gurobi.Optimizer)\n",
    "set_optimizer_attribute(model, \"NonConvex\", 2)\n",
    "#model = Model(NLopt.Optimizer)\n",
    "#set_optimizer_attribute(model, \"algorithm\", :LD_MMA)\n",
    "\n",
    "\n",
    "P_renewable_max = 10000000\n",
    "#The installed power of the mix\n",
    "@variable(model, P[Power_generation_ls] >= 0)\n",
    "\n",
    "#@constraint(model, Battery_power, P[5] <= P[1]+ P[2])\n",
    "\n",
    "#@constraint(model, Solar_power, P[1] <= 100000)\n",
    "#@constraint(model, Wind_power, P[2] <= 100000)\n",
    "\n",
    "#Generation of solar, wind, coal, CCGT\n",
    "@variable(model, X_gen[nb_hours_ls, Power_generation_ls ] >= 0)\n",
    "\n",
    "#State of charge of the battery\n",
    "@variable(model, X_soc[nb_hours_ls] >=0)\n",
    "\n",
    "# Discharge of the battery\n",
    "@variable(model, X_dch[nb_hours_ls] >=0)\n",
    "\n",
    "# Charge of the battery\n",
    "@variable(model, X_ch[nb_hours_ls] >=0)\n",
    "\n",
    "\n",
    "CO2_price = 100000\n",
    "# The cost of the mix assuming a certain carbon cost\n",
    "@objective(model, Min, sum((C_FC[i] + C_FOM[i])*P[i] for i in 1:size(P,1)) +\n",
    "sum(sum((C_VOM[j] + CO2_price * E_CO2[j])* X_gen[t,j+2] for j in 1:2) for t in 1:size(X_gen,1)) ) # to be changed\n",
    "\n",
    "\n",
    "# Cannot produce more than the installed power\n",
    "@constraint(model, Solar_generation[t in nb_hours_ls], X_gen[t,1] <= P[1])\n",
    "@constraint(model, Wind_generation[t in nb_hours_ls], X_gen[t,2] <= P[2])\n",
    "@constraint(model, CCGT[t in nb_hours_ls], X_gen[t,3] <= P[3])\n",
    "@constraint(model, Coal[t in nb_hours_ls], X_gen[t,4] <= P[4])\n",
    "@constraint(model, Battery[t in nb_hours_ls], X_gen[t,5] == X_dch[t])\n",
    "\n",
    "# Cannot produce more than availability for solar and wind \n",
    "@constraint(model, Solar_available[t in nb_hours_ls], X_gen[t,1] == Availability[t,1]*P_renewable_max)\n",
    "@constraint(model, Wind_available[t in nb_hours_ls], X_gen[t,2] ==  Availability[t,2]*P_renewable_max)\n",
    "\n",
    "# Supply meets demand at each hours:\n",
    "@constraint(model, Supply_demand[t in nb_hours_ls], sum(X_gen[t,i] for i in Power_generation_ls) >= X_D[t]);\n"
   ]
  },
  {
   "cell_type": "markdown",
   "metadata": {},
   "source": [
    "![Alt text](image.png)"
   ]
  },
  {
   "cell_type": "markdown",
   "metadata": {},
   "source": [
    "Expression for wind and solar"
   ]
  },
  {
   "cell_type": "code",
   "execution_count": 11,
   "metadata": {},
   "outputs": [
    {
     "name": "stdout",
     "output_type": "stream",
     "text": [
      "s_1 expression\n",
      "s_1 expression\n"
     ]
    }
   ],
   "source": [
    "# Constrainhe state of charge\n",
    "M = 100000000000\n",
    "\n",
    "#Binary variable for the solar energy\n",
    "@variable(model, s1[nb_hours_ls], Bin)\n",
    "\n",
    "# z_1 equal 1 if eta*(x_g_t -x_d) is is greatter than eta*E_max*delta t\n",
    "println(\"s_1 expression\")\n",
    "#@constraint(model, s_1_1[t in nb_hours_ls], Availability[t,1] - P[1]   <=  M*s1[t])\n",
    "#@constraint(model, s_1_2[t in nb_hours_ls],  -Availability[t,1] + P[1] <= M*(1-s1[t]))\n",
    "\n",
    "#@constraint(model, Solar_prod_1[t in nb_hours_ls], X_gen[t,1] >= P[1] -M*(1-s1[t]))\n",
    "#@constraint(model, Solar_prod_2[t in nb_hours_ls], X_gen[t,1] >= Availability[t,1] -M*s1[t])\n",
    "\n",
    "\n",
    "#Binary variable for the wind energy\n",
    "@variable(model, s2[nb_hours_ls], Bin)\n",
    "\n",
    "# z_1 equal 1 if eta*(x_g_t -x_d) is is greatter than eta*E_max*delta t\n",
    "println(\"s_1 expression\")\n",
    "#@constraint(model, s_2_1[t in nb_hours_ls], Availability[t,2]- P[2]   <=  M*s2[t])\n",
    "#@constraint(model, s_2_2[t in nb_hours_ls],  -Availability[t,2] + P[2] <= M*(1-s2[t]))\n",
    "\n",
    "#@constraint(model, Wind_prod_1[t in nb_hours_ls], X_gen[t,2] >= P[2] -M*(1-s2[t]))\n",
    "#@constraint(model, Wind_prod_2[t in nb_hours_ls], X_gen[t,2] >= Availability[t,2] -M*s2[t]);"
   ]
  },
  {
   "cell_type": "markdown",
   "metadata": {},
   "source": [
    "Create the variable X_min = min(X_1, X_2, X_3)"
   ]
  },
  {
   "cell_type": "code",
   "execution_count": 12,
   "metadata": {},
   "outputs": [
    {
     "name": "stdout",
     "output_type": "stream",
     "text": [
      "Z_1 expression\n",
      "Min X_1, X_2 expression\n",
      " Take the min of min(X_1, X_2) and X_3\n",
      " Take the overall min\n"
     ]
    }
   ],
   "source": [
    "\n",
    "\n",
    "# X_1, X_2, X_3 = [eta*(sum(X_gen[t,i] for i in Power_generation_ls)- X_D[t]) , eta*P[5], (1- X_soc[t])*P[5]* H]\n",
    "@variable(model, z1[nb_hours_ls], Bin)\n",
    "@variable(model, z2[nb_hours_ls], Bin)\n",
    "\n",
    "# z_1 equal 1 if eta*(x_g_t -x_d) is is greatter than eta*E_max*delta t\n",
    "println(\"Z_1 expression\")\n",
    "@constraint(model, z_1_1[t in nb_hours_ls], eta*P[5] - eta*(sum(X_gen[t,i] for i in 1:4)- X_D[t])   <=  M*z1[t])\n",
    "@constraint(model, z_1_2[t in nb_hours_ls], -eta*P[5] + eta*(sum(X_gen[t,i] for i in 1:4)- X_D[t]) <= M*(1-z1[t]))\n",
    "\n",
    "\n",
    "#Minimum between X_1 and X_2\n",
    "@variable(model, min_X_1_X_2[nb_hours_ls])\n",
    "\n",
    "println(\"Min X_1, X_2 expression\")\n",
    "@constraint(model, X_1_X_2_lower_1[t in nb_hours_ls], min_X_1_X_2[t] <= eta*(sum(X_gen[t,i] for i in 1:4)- X_D[t]))\n",
    "@constraint(model, X_1_X_2_lower_2[t in nb_hours_ls], min_X_1_X_2[t] <= eta*P[5])\n",
    "@constraint(model, X_1_X_2_higher_1[t in nb_hours_ls], min_X_1_X_2[t] >= eta*(sum(X_gen[t,i] for i in 1:4)- X_D[t]) - M*(1-z1[t]))\n",
    "@constraint(model, X_1_X_2_higher_2[t in nb_hours_ls], min_X_1_X_2[t] >= eta*P[5] - M*z1[t])\n",
    "\n",
    "\n",
    "# z_2 equal 1 if min(X_1, X_2) is is greater than (1- x_soc[t])*h*E_max\n",
    "println(\" Take the min of min(X_1, X_2) and X_3\")\n",
    "@constraint(model, z_2_1[t in nb_hours_ls], (1- X_soc[t])* P[5] * H - min_X_1_X_2[t] <=  M*z2[t])\n",
    "@constraint(model, z_2_2[t in nb_hours_ls], - (1- X_soc[t]) * P[5] * H + min_X_1_X_2[t] <= M*(1-z2[t]))\n",
    "\n",
    "\n",
    "# Constraint for the variable X_ch\n",
    "println(\" Take the overall min\")\n",
    "@variable(model, min_X_1_X_2_X_3[nb_hours_ls])\n",
    "\n",
    "@constraint(model, X_1_X_2_X_3_lower_1[t in nb_hours_ls], min_X_1_X_2_X_3[t] <= min_X_1_X_2[t])\n",
    "@constraint(model, X_1_X_2_X_3_lower_2[t in nb_hours_ls], min_X_1_X_2_X_3[t] <= (1- X_soc[t])*P[5]* H)\n",
    "@constraint(model, X_1_X_2_X_3_higher_1[t in nb_hours_ls], min_X_1_X_2_X_3[t] >= min_X_1_X_2[t] - M*(1-z2[t]))\n",
    "@constraint(model, X_1_X_2_X_3_higher_2[t in nb_hours_ls], min_X_1_X_2_X_3[t] >= (1- X_soc[t])*P[5]* H - M*z2[t]);\n",
    "\n"
   ]
  },
  {
   "cell_type": "markdown",
   "metadata": {},
   "source": [
    "Expression of X_ch"
   ]
  },
  {
   "cell_type": "code",
   "execution_count": 13,
   "metadata": {},
   "outputs": [],
   "source": [
    "# Need to put this conditions above\n",
    "@variable(model, Z_X_gen_greater_X_D[nb_hours_ls], Bin)\n",
    "\n",
    "@constraint(model, Z_X_gen_greater_X_D_1[t in nb_hours_ls], sum(X_gen[t,i] for i in 1:4) - X_D[t] <= M*Z_X_gen_greater_X_D[t])\n",
    "@constraint(model, Z_X_gen_greater_X_D_2[t in nb_hours_ls], -sum(X_gen[t,i] for i in 1:4) + X_D[t] <= M*(1-Z_X_gen_greater_X_D[t]))\n",
    "\n",
    "#Expression of X_ch\n",
    "@constraint(model, X_ch_expression[t in nb_hours_ls], X_ch[t]  == Z_X_gen_greater_X_D[t]*min_X_1_X_2_X_3[t]);"
   ]
  },
  {
   "cell_type": "markdown",
   "metadata": {},
   "source": [
    "Expression of min of [X_gen[t]- X_D[t],  P[5], X_soc[t]*P[5]* H]"
   ]
  },
  {
   "cell_type": "code",
   "execution_count": 14,
   "metadata": {},
   "outputs": [
    {
     "name": "stdout",
     "output_type": "stream",
     "text": [
      "Y_1 expression\n",
      "Min X_1, X_2 expression\n",
      " Take the min of min(X_1, X_2) and X_3\n",
      " Take the overall min\n"
     ]
    }
   ],
   "source": [
    "# X_1, X_2, X_3 = [X_gen[t]- X_D[t]) , P[5], X_soc[t])*P[5]* H]\n",
    "@variable(model, y1[nb_hours_ls], Bin)\n",
    "@variable(model, y2[nb_hours_ls], Bin)\n",
    "\n",
    "# z_1 equal 1 if eta*(x_g_t -x_d) is is greatter than eta*E_max*delta t\n",
    "println(\"Y_1 expression\")\n",
    "@constraint(model, y_1_1[t in nb_hours_ls], P[5] - (sum(X_gen[t,i] for i in 1:4)- X_D[t])   <=  M*y1[t])\n",
    "@constraint(model, y_1_2[t in nb_hours_ls], -P[5] + (sum(X_gen[t,i] for i in 1:4)- X_D[t]) <= M*(1-y1[t]))\n",
    "\n",
    "\n",
    "#Minimum between X_1 and X_2\n",
    "@variable(model, min_extra_prod_P_5[nb_hours_ls])\n",
    "\n",
    "println(\"Min X_1, X_2 expression\")\n",
    "@constraint(model, min_extra_prod_P_5_lower_1[t in nb_hours_ls], min_extra_prod_P_5[t] <= sum(X_gen[t,i] for i in 1:4)- X_D[t])\n",
    "@constraint(model, min_extra_prod_P_5_lower_2[t in nb_hours_ls], min_extra_prod_P_5[t] <= P[5])\n",
    "@constraint(model, min_extra_prod_P_5_higher_1[t in nb_hours_ls], min_extra_prod_P_5[t] >= (sum(X_gen[t,i] for i in 1:4)- X_D[t]) - M*(1-y1[t]))\n",
    "@constraint(model, min_extra_prod_P_5_higher_2[t in nb_hours_ls], min_extra_prod_P_5[t] >= P[5] - M*y1[t])\n",
    "\n",
    "\n",
    "# z_2 equal 1 if min(X_1, X_2) is is greater than (1- x_soc[t])*h*E_max\n",
    "println(\" Take the min of min(X_1, X_2) and X_3\")\n",
    "@constraint(model, y_2_1[t in nb_hours_ls], X_soc[t]* P[5] * H - min_extra_prod_P_5[t] <=  M*y2[t])\n",
    "@constraint(model, y_2_2[t in nb_hours_ls], - X_soc[t] * P[5] * H + min_extra_prod_P_5[t] <= M*(1-y2[t]))\n",
    "\n",
    "\n",
    "# Constraint for the variable X_ch\n",
    "println(\" Take the overall min\")\n",
    "@variable(model, min_extra_prod_P5_soc[nb_hours_ls])\n",
    "\n",
    "@constraint(model, min_extra_prod_P5_soc_lower_1[t in nb_hours_ls], min_extra_prod_P5_soc[t] <= min_extra_prod_P_5[t])\n",
    "@constraint(model, min_extra_prod_P5_soc_lower_2[t in nb_hours_ls], min_extra_prod_P5_soc[t] <= X_soc[t]*P[5]* H)\n",
    "@constraint(model, min_extra_prod_P5_soc_higher_1[t in nb_hours_ls], min_extra_prod_P5_soc[t] >= min_extra_prod_P_5[t] - M*(1-y2[t]))\n",
    "@constraint(model, min_extra_prod_P5_soc_higher_2[t in nb_hours_ls], min_extra_prod_P5_soc[t] >= X_soc[t]*P[5]* H - M*y2[t]);\n",
    "\n"
   ]
  },
  {
   "cell_type": "markdown",
   "metadata": {},
   "source": [
    "Expression of X_dch"
   ]
  },
  {
   "cell_type": "code",
   "execution_count": 15,
   "metadata": {},
   "outputs": [],
   "source": [
    "@variable(model, Z_X_gen_lower_X_D[nb_hours_ls], Bin)\n",
    "\n",
    "@constraint(model, Z_X_gen_lower_X_D_1[t in nb_hours_ls], X_D[t] - sum(X_gen[t,i] for i in 1:4)  <= M*Z_X_gen_lower_X_D[t])\n",
    "@constraint(model, Z_X_gen_lower_X_D_2[t in nb_hours_ls], -X_D[t] + sum(X_gen[t,i] for i in 1:4) <= M*(1-Z_X_gen_lower_X_D[t]))\n",
    "\n",
    "#Expression of X_dch\n",
    "# issue with this constraint\n",
    "@constraint(model, X_dch_expression[t in nb_hours_ls], X_dch[t]  == Z_X_gen_lower_X_D[t]*min_extra_prod_P5_soc[t]);"
   ]
  },
  {
   "cell_type": "markdown",
   "metadata": {},
   "source": [
    "Expression of state of charge"
   ]
  },
  {
   "cell_type": "code",
   "execution_count": 16,
   "metadata": {},
   "outputs": [],
   "source": [
    "@constraint(model, SOC_t_1, X_soc[1] == 1)\n",
    "\n",
    "@constraint(model, SOC_t[t in nb_hours_ls[2:end]], (X_soc[t]-X_soc[t-1])*H*P[5] == (X_ch[t-1]- X_dch[t-1]));"
   ]
  },
  {
   "cell_type": "code",
   "execution_count": 17,
   "metadata": {},
   "outputs": [
    {
     "name": "stdout",
     "output_type": "stream",
     "text": [
      "Set parameter NonConvex to value 2\n",
      "Gurobi Optimizer version 10.0.2 build v10.0.2rc0 (mac64[arm])\n",
      "\n",
      "CPU model: Apple M2\n",
      "Thread count: 8 physical cores, 8 logical processors, using up to 8 threads\n",
      "\n",
      "Optimize a model with 281 rows, 205 columns and 1031 nonzeros\n",
      "Model fingerprint: 0xe27833f0\n",
      "Model has 109 quadratic constraints\n",
      "Variable types: 125 continuous, 80 integer (80 binary)\n",
      "Coefficient statistics:\n",
      "  Matrix range     [8e-01, 1e+11]\n",
      "  QMatrix range    [1e+00, 2e+00]\n",
      "  QLMatrix range   [1e+00, 1e+11]\n",
      "  Objective range  [4e+05, 1e+08]\n",
      "  Bounds range     [0e+00, 0e+00]\n",
      "  RHS range        [1e+00, 1e+11]\n",
      "  QRHS range       [1e+11, 1e+11]\n",
      "Warning: Model contains large matrix coefficients\n",
      "Warning: Model contains large rhs\n",
      "Warning: Quadratic constraints contain large coefficients on linear part\n",
      "Warning: Model contains large rhs on quadratic constraints\n",
      "         Consider reformulating model or setting NumericFocus parameter\n",
      "         to avoid numerical issues.\n",
      "Presolve removed 23 rows and 81 columns\n",
      "Presolve time: 0.00s\n",
      "Presolved: 334 rows, 133 columns, 919 nonzeros\n",
      "Presolved model has 25 bilinear constraint(s)\n",
      "Variable types: 95 continuous, 38 integer (38 binary)\n",
      "\n",
      "Root relaxation: objective 3.775046e+12, 0 iterations, 0.00 seconds (0.00 work units)\n",
      "\n",
      "    Nodes    |    Current Node    |     Objective Bounds      |     Work\n",
      " Expl Unexpl |  Obj  Depth IntInf | Incumbent    BestBd   Gap | It/Node Time\n",
      "\n",
      "*    0     0               0    3.775046e+12 3.7750e+12  0.00%     -    0s\n",
      "\n",
      "Explored 1 nodes (0 simplex iterations) in 0.00 seconds (0.00 work units)\n",
      "Thread count was 8 (of 8 available processors)\n",
      "\n",
      "Solution count 1: 3.77505e+12 \n",
      "\n",
      "Optimal solution found (tolerance 1.00e-04)\n",
      "Best objective 3.775045770260e+12, best bound 3.775045770260e+12, gap 0.0000%\n",
      "\n",
      "User-callback calls 397, time in user-callback 0.00 sec\n"
     ]
    }
   ],
   "source": [
    "optimize!(model);"
   ]
  },
  {
   "cell_type": "code",
   "execution_count": 18,
   "metadata": {},
   "outputs": [
    {
     "data": {
      "text/plain": [
       "3.775045770260157e12"
      ]
     },
     "execution_count": 18,
     "metadata": {},
     "output_type": "execute_result"
    }
   ],
   "source": [
    "objective_value(model)"
   ]
  },
  {
   "cell_type": "code",
   "execution_count": 19,
   "metadata": {},
   "outputs": [
    {
     "name": "stdout",
     "output_type": "stream",
     "text": [
      "3.775045770260157e12"
     ]
    },
    {
     "data": {
      "text/plain": [
       "3.775045770260157e12"
      ]
     },
     "execution_count": 19,
     "metadata": {},
     "output_type": "execute_result"
    }
   ],
   "source": [
    "cost_mix(value.(P), value.(X_gen))"
   ]
  },
  {
   "cell_type": "code",
   "execution_count": 20,
   "metadata": {},
   "outputs": [
    {
     "name": "stdout",
     "output_type": "stream",
     "text": [
      "1-dimensional DenseAxisArray{Float64,1,...} with index sets:\n",
      "    Dimension 1, 1:5\n",
      "And data, a 5-element Vector{Float64}:\n",
      " 39380.170000000006\n",
      "     5.33390441e6\n",
      "     0.0\n",
      "     0.0\n",
      "     0.0\n"
     ]
    }
   ],
   "source": [
    "println(value.(P))\n",
    "#println(value.(s1[:]))"
   ]
  },
  {
   "cell_type": "markdown",
   "metadata": {},
   "source": []
  },
  {
   "cell_type": "code",
   "execution_count": 21,
   "metadata": {},
   "outputs": [
    {
     "name": "stdout",
     "output_type": "stream",
     "text": [
      "2-dimensional DenseAxisArray{Float64,2,...} with index sets:\n",
      "    Dimension 1, 1:10\n",
      "    Dimension 2, 1:5\n",
      "And data, a 10×5 Matrix{Float64}:\n",
      " 39380.170000000006  5.33390441e6          0.0  0.0  0.0\n",
      "     0.0             5.1300525200000005e6  0.0  0.0  0.0\n",
      "     0.0             5.18819049e6          0.0  0.0  0.0\n",
      "     0.0             4.8142639799999995e6  0.0  0.0  0.0\n",
      "     0.0             4.75112329e6          0.0  0.0  0.0\n",
      "     0.0             4.69124866e6          0.0  0.0  0.0\n",
      "     0.0             4.68391226e6          0.0  0.0  0.0\n",
      "     0.0             4.53982158e6          0.0  0.0  0.0\n",
      "     0.0             4.11274379e6          0.0  0.0  0.0\n",
      "     0.0             3.7690349299999997e6  0.0  0.0  0.0\n"
     ]
    }
   ],
   "source": [
    "println(value.(X_gen))"
   ]
  },
  {
   "cell_type": "code",
   "execution_count": 22,
   "metadata": {},
   "outputs": [
    {
     "name": "stdout",
     "output_type": "stream",
     "text": [
      "1-dimensional DenseAxisArray{Float64,1,...} with index sets:\n",
      "    Dimension 1, 1:10\n",
      "And data, a 10-element Vector{Float64}:\n",
      " 1.0\n",
      " 1.0\n",
      " 1.0\n",
      " 1.0\n",
      " 1.0\n",
      " 1.0\n",
      " 1.0\n",
      " 1.0\n",
      " 1.0\n",
      " 1.0\n",
      "1-dimensional DenseAxisArray{Float64,1,...} with index sets:\n",
      "    Dimension 1, 1:10\n",
      "And data, a 10-element Vector{Float64}:\n",
      " 1.0\n",
      " 0.0\n",
      " 0.0\n",
      " 0.0\n",
      " 0.0\n",
      " 0.0\n",
      " 0.0\n",
      " 0.0\n",
      " 0.0\n",
      " 0.0\n"
     ]
    }
   ],
   "source": [
    "println(value.(Z_X_gen_greater_X_D))\n",
    "println(value.(X_soc))"
   ]
  },
  {
   "cell_type": "code",
   "execution_count": 23,
   "metadata": {},
   "outputs": [
    {
     "name": "stdout",
     "output_type": "stream",
     "text": [
      "1-dimensional DenseAxisArray{Float64,1,...} with index sets:\n",
      "    Dimension 1, 1:10\n",
      "And data, a 10-element Vector{Float64}:\n",
      " 0.0\n",
      " 0.0\n",
      " 0.0\n",
      " 0.0\n",
      " 0.0\n",
      " 0.0\n",
      " 0.0\n",
      " 0.0\n",
      " 0.0\n",
      " 0.0\n",
      "1-dimensional DenseAxisArray{Float64,1,...} with index sets:\n",
      "    Dimension 1, 1:10\n",
      "And data, a 10-element Vector{Float64}:\n",
      " 0.0\n",
      " 0.0\n",
      " 0.0\n",
      " 0.0\n",
      " 0.0\n",
      " 0.0\n",
      " 0.0\n",
      " 0.0\n",
      " 0.0\n",
      " 0.0\n"
     ]
    }
   ],
   "source": [
    "println(value.(min_extra_prod_P5_soc))\n",
    "println(value.(Z_X_gen_lower_X_D))"
   ]
  },
  {
   "cell_type": "code",
   "execution_count": null,
   "metadata": {},
   "outputs": [],
   "source": []
  },
  {
   "cell_type": "code",
   "execution_count": null,
   "metadata": {},
   "outputs": [],
   "source": []
  }
 ],
 "metadata": {
  "kernelspec": {
   "display_name": "Julia 1.9.3",
   "language": "julia",
   "name": "julia-1.9"
  },
  "language_info": {
   "file_extension": ".jl",
   "mimetype": "application/julia",
   "name": "julia",
   "version": "1.9.3"
  },
  "orig_nbformat": 4
 },
 "nbformat": 4,
 "nbformat_minor": 2
}
