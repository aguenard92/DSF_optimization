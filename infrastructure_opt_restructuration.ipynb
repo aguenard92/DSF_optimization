{
 "cells": [
  {
   "attachments": {},
   "cell_type": "markdown",
   "metadata": {},
   "source": [
    "# Demand side flexibility\n"
   ]
  },
  {
   "cell_type": "code",
   "execution_count": 178,
   "metadata": {},
   "outputs": [
    {
     "name": "stderr",
     "output_type": "stream",
     "text": [
      "\u001b[32m\u001b[1m   Resolving\u001b[22m\u001b[39m package versions...\n",
      "\u001b[32m\u001b[1m  No Changes\u001b[22m\u001b[39m to `~/.julia/environments/v1.9/Project.toml`\n",
      "\u001b[32m\u001b[1m  No Changes\u001b[22m\u001b[39m to `~/.julia/environments/v1.9/Manifest.toml`\n",
      "\u001b[32m\u001b[1m   Resolving\u001b[22m\u001b[39m package versions...\n",
      "\u001b[32m\u001b[1m  No Changes\u001b[22m\u001b[39m to `~/.julia/environments/v1.9/Project.toml`\n",
      "\u001b[32m\u001b[1m  No Changes\u001b[22m\u001b[39m to `~/.julia/environments/v1.9/Manifest.toml`\n",
      "\u001b[32m\u001b[1m   Resolving\u001b[22m\u001b[39m package versions...\n",
      "\u001b[32m\u001b[1m  No Changes\u001b[22m\u001b[39m to `~/.julia/environments/v1.9/Project.toml`\n",
      "\u001b[32m\u001b[1m  No Changes\u001b[22m\u001b[39m to `~/.julia/environments/v1.9/Manifest.toml`\n",
      "\u001b[32m\u001b[1m   Resolving\u001b[22m\u001b[39m package versions...\n",
      "\u001b[32m\u001b[1m  No Changes\u001b[22m\u001b[39m to `~/.julia/environments/v1.9/Project.toml`\n",
      "\u001b[32m\u001b[1m  No Changes\u001b[22m\u001b[39m to `~/.julia/environments/v1.9/Manifest.toml`\n"
     ]
    }
   ],
   "source": [
    "using Pkg\n",
    "Pkg.add(\"CSV\")\n",
    "Pkg.add(\"DataFrames\")\n",
    "Pkg.add(\"JuMP\")\n",
    "Pkg.add(\"Gurobi\")\n",
    "#Pkg.add(\"NLopt\")"
   ]
  },
  {
   "cell_type": "code",
   "execution_count": 179,
   "metadata": {},
   "outputs": [],
   "source": [
    "using CSV, DataFrames, JuMP, Gurobi"
   ]
  },
  {
   "cell_type": "markdown",
   "metadata": {},
   "source": [
    "# Read the CSV data"
   ]
  },
  {
   "cell_type": "code",
   "execution_count": 180,
   "metadata": {},
   "outputs": [],
   "source": [
    "fixed_cost = Matrix(CSV.read(\"fixed_cost.csv\",DataFrame))\n",
    "variable_cost = Matrix(CSV.read(\"variable_cost.csv\",DataFrame))\n",
    "demand = Matrix(CSV.read(\"demand.csv\", DataFrame))\n",
    "Availability_matrix = Matrix(CSV.read(\"Availability.csv\", DataFrame));"
   ]
  },
  {
   "cell_type": "code",
   "execution_count": 181,
   "metadata": {},
   "outputs": [
    {
     "data": {
      "text/plain": [
       "10×2 Matrix{Float64}:\n",
       " 0.00393802  0.53339\n",
       " 0.0         0.513005\n",
       " 0.0         0.518819\n",
       " 0.0         0.481426\n",
       " 0.0         0.475112\n",
       " 0.0         0.469125\n",
       " 0.0         0.468391\n",
       " 0.0         0.453982\n",
       " 0.0         0.411274\n",
       " 0.0         0.376903"
      ]
     },
     "execution_count": 181,
     "metadata": {},
     "output_type": "execute_result"
    }
   ],
   "source": [
    "C_FC = fixed_cost[:,1]\n",
    "C_FOM = fixed_cost[:,2]\n",
    "C_VOM = variable_cost[:,1]\n",
    "E_CO2 = variable_cost[:,2]\n",
    "X_D = demand[1:10]\n",
    "Availability = Availability_matrix[1:10,1:2]"
   ]
  },
  {
   "cell_type": "markdown",
   "metadata": {},
   "source": [
    "# Constant"
   ]
  },
  {
   "cell_type": "code",
   "execution_count": 182,
   "metadata": {},
   "outputs": [
    {
     "data": {
      "text/plain": [
       "0.8"
      ]
     },
     "execution_count": 182,
     "metadata": {},
     "output_type": "execute_result"
    }
   ],
   "source": [
    "eta = 0.8# Efficiency of the battery\n",
    "\n",
    " # price of the CO2 per ton"
   ]
  },
  {
   "cell_type": "markdown",
   "metadata": {},
   "source": [
    "# Model Functions"
   ]
  },
  {
   "cell_type": "code",
   "execution_count": 184,
   "metadata": {},
   "outputs": [
    {
     "data": {
      "text/plain": [
       "cost_mix (generic function with 1 method)"
      ]
     },
     "execution_count": 184,
     "metadata": {},
     "output_type": "execute_result"
    }
   ],
   "source": [
    "function cost_mix(P, X)\n",
    "    CO2_price = 1000000\n",
    "    # The generation for the fossil fuel is for the index 3 and 4 of X\n",
    "    print(sum((C_FC[i] + C_FOM[i])*P[i] for i in 1:size(P,1)))\n",
    "    cost = sum((C_FC[i] + C_FOM[i])*P[i] for i in 1:size(P,1)) \n",
    "                sum(sum((C_VOM[j] + CO2_price * E_CO2[j])* X[t,j+2] for j in 1:2) for t in 1:size(X,1)) \n",
    "    return cost\n",
    "end"
   ]
  },
  {
   "attachments": {},
   "cell_type": "markdown",
   "metadata": {},
   "source": [
    "# Creating the model"
   ]
  },
  {
   "cell_type": "markdown",
   "metadata": {},
   "source": [
    "List of variable "
   ]
  },
  {
   "cell_type": "code",
   "execution_count": 185,
   "metadata": {},
   "outputs": [
    {
     "data": {
      "text/plain": [
       "2"
      ]
     },
     "execution_count": 185,
     "metadata": {},
     "output_type": "execute_result"
    }
   ],
   "source": [
    "Power_generation_ls = 1:5 # Solar, Wind, CCGT, Coal, Battery\n",
    "\n",
    "fossil_fuel_ls = 1:2 # CCGT, Coal\n",
    "\n",
    "nb_hours_ls = 1:size(X_D,1)\n",
    "\n",
    "H = 2"
   ]
  },
  {
   "cell_type": "code",
   "execution_count": 186,
   "metadata": {},
   "outputs": [
    {
     "name": "stdout",
     "output_type": "stream",
     "text": [
      "Set parameter Username\n",
      "Academic license - for non-commercial use only - expires 2024-09-07\n",
      "Set parameter NonConvex to value 2\n",
      "1.64493949138e6 P[1] + 695600.72477 P[2] + 1148000 P[3] + 3518500 P[4] + 434537.234 P[5]"
     ]
    }
   ],
   "source": [
    "model = Model(Gurobi.Optimizer)\n",
    "set_optimizer_attribute(model, \"NonConvex\", 2)\n",
    "#model = Model(NLopt.Optimizer)\n",
    "#set_optimizer_attribute(model, \"algorithm\", :LD_MMA)\n",
    "\n",
    "\n",
    "\n",
    "#The installed power of the mix\n",
    "@variable(model, P[Power_generation_ls] >= 0)\n",
    "\n",
    "@constraint(model, Battery_power, P[5] <= P[1]+ P[2])\n",
    "#@constraint(model, Battery_power_2, P[5] <= P[2])\n",
    "\n",
    "#@constraint(model, Solar_power, P[1] <= 100000)\n",
    "#@constraint(model, Wind_power, P[2] <= 100000)\n",
    "#Generation of solar, wind, coal, CCGT\n",
    "@variable(model, X_gen[nb_hours_ls, Power_generation_ls ] >= 0)\n",
    "\n",
    "#State of charge of the battery\n",
    "@variable(model, X_soc[nb_hours_ls] >=0)\n",
    "\n",
    "# Discharge of the battery\n",
    "@variable(model, X_dch[nb_hours_ls] >=0)\n",
    "\n",
    "# Charge of the battery\n",
    "@variable(model, X_ch[nb_hours_ls] >=0)\n",
    "\n",
    "# The cost of the mix assuming a certain carbon cost\n",
    "@objective(model, Min, cost_mix(P, X_gen)) # to be changed\n",
    "\n",
    "\n",
    "# Cannot produce more than the installed power\n",
    "@constraint(model, Solar_generation[t in nb_hours_ls], X_gen[t,1] <= P[1])\n",
    "@constraint(model, Wind_generation[t in nb_hours_ls], X_gen[t,2] <= P[2])\n",
    "@constraint(model, CCGT[t in nb_hours_ls], X_gen[t,3] <= P[3])\n",
    "@constraint(model, Coal[t in nb_hours_ls], X_gen[t,4] <= P[4])\n",
    "@constraint(model, Battery[t in nb_hours_ls], X_gen[t,5] == X_dch[t])\n",
    "\n",
    "# Cannot produce more than availability for solar and wind \n",
    "@constraint(model, Solar_available[t in nb_hours_ls], X_gen[t,1] == Availability[t,1]*P[1])\n",
    "@constraint(model, Wind_available[t in nb_hours_ls], X_gen[t,2] ==  Availability[t,2]*P[2])\n",
    "\n",
    "# Supply meets demand at each hours:\n",
    "@constraint(model, Supply_demand[t in nb_hours_ls], sum(X_gen[t,i] for i in Power_generation_ls) >= X_D[t]);\n"
   ]
  },
  {
   "cell_type": "markdown",
   "metadata": {},
   "source": [
    "![Alt text](image.png)"
   ]
  },
  {
   "cell_type": "markdown",
   "metadata": {},
   "source": [
    "Expression for wind and solar"
   ]
  },
  {
   "cell_type": "code",
   "execution_count": 187,
   "metadata": {},
   "outputs": [
    {
     "name": "stdout",
     "output_type": "stream",
     "text": [
      "s_1 expression\n",
      "s_1 expression\n"
     ]
    }
   ],
   "source": [
    "# Constrainhe state of charge\n",
    "M = 100000\n",
    "\n",
    "#Binary variable for the solar energy\n",
    "@variable(model, s1[nb_hours_ls], Bin)\n",
    "\n",
    "# z_1 equal 1 if eta*(x_g_t -x_d) is is greatter than eta*E_max*delta t\n",
    "println(\"s_1 expression\")\n",
    "#@constraint(model, s_1_1[t in nb_hours_ls], Availability[t,1] - P[1]   <=  M*s1[t])\n",
    "#@constraint(model, s_1_2[t in nb_hours_ls],  -Availability[t,1] + P[1] <= M*(1-s1[t]))\n",
    "\n",
    "#@constraint(model, Solar_prod_1[t in nb_hours_ls], X_gen[t,1] >= P[1] -M*(1-s1[t]))\n",
    "#@constraint(model, Solar_prod_2[t in nb_hours_ls], X_gen[t,1] >= Availability[t,1] -M*s1[t])\n",
    "\n",
    "\n",
    "#Binary variable for the wind energy\n",
    "@variable(model, s2[nb_hours_ls], Bin)\n",
    "\n",
    "# z_1 equal 1 if eta*(x_g_t -x_d) is is greatter than eta*E_max*delta t\n",
    "println(\"s_1 expression\")\n",
    "#@constraint(model, s_2_1[t in nb_hours_ls], Availability[t,2]- P[2]   <=  M*s2[t])\n",
    "#@constraint(model, s_2_2[t in nb_hours_ls],  -Availability[t,2] + P[2] <= M*(1-s2[t]))\n",
    "\n",
    "#@constraint(model, Wind_prod_1[t in nb_hours_ls], X_gen[t,2] >= P[2] -M*(1-s2[t]))\n",
    "#@constraint(model, Wind_prod_2[t in nb_hours_ls], X_gen[t,2] >= Availability[t,2] -M*s2[t]);"
   ]
  },
  {
   "cell_type": "markdown",
   "metadata": {},
   "source": [
    "Create the variable X_min = min(X_1, X_2, X_3)"
   ]
  },
  {
   "cell_type": "code",
   "execution_count": 188,
   "metadata": {},
   "outputs": [
    {
     "name": "stdout",
     "output_type": "stream",
     "text": [
      "Z_1 expression\n",
      "Min X_1, X_2 expression\n",
      " Take the min of min(X_1, X_2) and X_3\n",
      " Take the overall min\n"
     ]
    }
   ],
   "source": [
    "\n",
    "\n",
    "# X_1, X_2, X_3 = [eta*(sum(X_gen[t,i] for i in Power_generation_ls)- X_D[t]) , eta*P[5], (1- X_soc[t])*P[5]* H]\n",
    "@variable(model, z1[nb_hours_ls], Bin)\n",
    "@variable(model, z2[nb_hours_ls], Bin)\n",
    "\n",
    "# z_1 equal 1 if eta*(x_g_t -x_d) is is greatter than eta*E_max*delta t\n",
    "println(\"Z_1 expression\")\n",
    "@constraint(model, z_1_1[t in nb_hours_ls], eta*P[5] - eta*(sum(X_gen[t,i] for i in 1:2)- X_D[t])   <=  M*z1[t])\n",
    "@constraint(model, z_1_2[t in nb_hours_ls], -eta*P[5] + eta*(sum(X_gen[t,i] for i in 1:2)- X_D[t]) <= M*(1-z1[t]))\n",
    "\n",
    "\n",
    "#Minimum between X_1 and X_2\n",
    "@variable(model, min_X_1_X_2[nb_hours_ls])\n",
    "\n",
    "println(\"Min X_1, X_2 expression\")\n",
    "@constraint(model, X_1_X_2_lower_1[t in nb_hours_ls], min_X_1_X_2[t] <= eta*(sum(X_gen[t,i] for i in 1:2)- X_D[t]))\n",
    "@constraint(model, X_1_X_2_lower_2[t in nb_hours_ls], min_X_1_X_2[t] <= eta*P[5])\n",
    "@constraint(model, X_1_X_2_higher_1[t in nb_hours_ls], min_X_1_X_2[t] >= eta*(sum(X_gen[t,i] for i in 1:2)- X_D[t]) - M*(1-z1[t]))\n",
    "@constraint(model, X_1_X_2_higher_2[t in nb_hours_ls], min_X_1_X_2[t] >= eta*P[5] - M*z1[t])\n",
    "\n",
    "\n",
    "# z_2 equal 1 if min(X_1, X_2) is is greater than (1- x_soc[t])*h*E_max\n",
    "println(\" Take the min of min(X_1, X_2) and X_3\")\n",
    "@constraint(model, z_2_1[t in nb_hours_ls], (1- X_soc[t])* P[5] * H - min_X_1_X_2[t] <=  M*z2[t])\n",
    "@constraint(model, z_2_2[t in nb_hours_ls], - (1- X_soc[t]) * P[5] * H + min_X_1_X_2[t] <= M*(1-z2[t]))\n",
    "\n",
    "\n",
    "# Constraint for the variable X_ch\n",
    "println(\" Take the overall min\")\n",
    "@variable(model, min_X_1_X_2_X_3[nb_hours_ls])\n",
    "\n",
    "@constraint(model, X_1_X_2_X_3_lower_1[t in nb_hours_ls], min_X_1_X_2_X_3[t] <= min_X_1_X_2[t])\n",
    "@constraint(model, X_1_X_2_X_3_lower_2[t in nb_hours_ls], min_X_1_X_2_X_3[t] <= (1- X_soc[t])*P[5]* H)\n",
    "@constraint(model, X_1_X_2_X_3_higher_1[t in nb_hours_ls], min_X_1_X_2_X_3[t] >= min_X_1_X_2[t] - M*(1-z2[t]))\n",
    "@constraint(model, X_1_X_2_X_3_higher_2[t in nb_hours_ls], min_X_1_X_2_X_3[t] >= (1- X_soc[t])*P[5]* H - M*z2[t]);\n",
    "\n"
   ]
  },
  {
   "cell_type": "markdown",
   "metadata": {},
   "source": [
    "Expression of X_ch"
   ]
  },
  {
   "cell_type": "code",
   "execution_count": 189,
   "metadata": {},
   "outputs": [],
   "source": [
    "@variable(model, Z_X_gen_greater_X_D[nb_hours_ls], Bin)\n",
    "\n",
    "@constraint(model, Z_X_gen_greater_X_D_1[t in nb_hours_ls], sum(X_gen[t,i] for i in 1:2) - X_D[t] <= M*Z_X_gen_greater_X_D[t])\n",
    "@constraint(model, Z_X_gen_greater_X_D_2[t in nb_hours_ls], -sum(X_gen[t,i] for i in 1:2) + X_D[t] <= M*(1-Z_X_gen_greater_X_D[t]))\n",
    "\n",
    "#Expression of X_ch\n",
    "@constraint(model, X_ch_expression[t in nb_hours_ls], X_ch[t]  == Z_X_gen_greater_X_D[t]*min_X_1_X_2_X_3[t]);"
   ]
  },
  {
   "cell_type": "markdown",
   "metadata": {},
   "source": [
    "Expression of min of [X_gen[t]- X_D[t],  P[5], X_soc[t]*P[5]* H]"
   ]
  },
  {
   "cell_type": "code",
   "execution_count": 190,
   "metadata": {},
   "outputs": [
    {
     "name": "stdout",
     "output_type": "stream",
     "text": [
      "Y_1 expression\n",
      "Min X_1, X_2 expression\n",
      " Take the min of min(X_1, X_2) and X_3\n",
      " Take the overall min\n"
     ]
    }
   ],
   "source": [
    "# X_1, X_2, X_3 = [X_gen[t]- X_D[t]) , P[5], X_soc[t])*P[5]* H]\n",
    "@variable(model, y1[nb_hours_ls], Bin)\n",
    "@variable(model, y2[nb_hours_ls], Bin)\n",
    "\n",
    "# z_1 equal 1 if eta*(x_g_t -x_d) is is greatter than eta*E_max*delta t\n",
    "println(\"Y_1 expression\")\n",
    "@constraint(model, y_1_1[t in nb_hours_ls], P[5] - (sum(X_gen[t,i] for i in 1:2)- X_D[t])   <=  M*y1[t])\n",
    "@constraint(model, y_1_2[t in nb_hours_ls], -P[5] + (sum(X_gen[t,i] for i in 1:2)- X_D[t]) <= M*(1-y1[t]))\n",
    "\n",
    "\n",
    "#Minimum between X_1 and X_2\n",
    "@variable(model, min_extra_prod_P_5[nb_hours_ls])\n",
    "\n",
    "println(\"Min X_1, X_2 expression\")\n",
    "@constraint(model, min_extra_prod_P_5_lower_1[t in nb_hours_ls], min_extra_prod_P_5[t] <= sum(X_gen[t,i] for i in 1:2)- X_D[t])\n",
    "@constraint(model, min_extra_prod_P_5_lower_2[t in nb_hours_ls], min_extra_prod_P_5[t] <= P[5])\n",
    "@constraint(model, min_extra_prod_P_5_higher_1[t in nb_hours_ls], min_extra_prod_P_5[t] >= (sum(X_gen[t,i] for i in 1:2)- X_D[t]) - M*(1-y1[t]))\n",
    "@constraint(model, min_extra_prod_P_5_higher_2[t in nb_hours_ls], min_extra_prod_P_5[t] >= P[5] - M*y1[t])\n",
    "\n",
    "\n",
    "# z_2 equal 1 if min(X_1, X_2) is is greater than (1- x_soc[t])*h*E_max\n",
    "println(\" Take the min of min(X_1, X_2) and X_3\")\n",
    "@constraint(model, y_2_1[t in nb_hours_ls], X_soc[t]* P[5] * H - min_extra_prod_P_5[t] <=  M*y2[t])\n",
    "@constraint(model, y_2_2[t in nb_hours_ls], - X_soc[t] * P[5] * H + min_extra_prod_P_5[t] <= M*(1-y2[t]))\n",
    "\n",
    "\n",
    "# Constraint for the variable X_ch\n",
    "println(\" Take the overall min\")\n",
    "@variable(model, min_extra_prod_P5_soc[nb_hours_ls])\n",
    "\n",
    "@constraint(model, min_extra_prod_P5_soc_lower_1[t in nb_hours_ls], min_extra_prod_P5_soc[t] <= min_extra_prod_P_5[t])\n",
    "@constraint(model, min_extra_prod_P5_soc_lower_2[t in nb_hours_ls], min_extra_prod_P5_soc[t] <= X_soc[t]*P[5]* H)\n",
    "@constraint(model, min_extra_prod_P5_soc_higher_1[t in nb_hours_ls], min_extra_prod_P5_soc[t] >= min_extra_prod_P_5[t] - M*(1-y2[t]))\n",
    "@constraint(model, min_extra_prod_P5_soc_higher_2[t in nb_hours_ls], min_extra_prod_P5_soc[t] >= X_soc[t]*P[5]* H - M*y2[t]);\n",
    "\n"
   ]
  },
  {
   "cell_type": "markdown",
   "metadata": {},
   "source": [
    "Expression of X_dch"
   ]
  },
  {
   "cell_type": "code",
   "execution_count": 191,
   "metadata": {},
   "outputs": [],
   "source": [
    "@variable(model, Z_X_gen_lower_X_D[nb_hours_ls], Bin)\n",
    "\n",
    "@constraint(model, Z_X_gen_lower_X_D_1[t in nb_hours_ls], X_D[t] - sum(X_gen[t,i] for i in 1:4)  <= M*Z_X_gen_lower_X_D[t])\n",
    "@constraint(model, Z_X_gen_lower_X_D_2[t in nb_hours_ls], -X_D[t] + sum(X_gen[t,i] for i in 1:4) <= M*(1-Z_X_gen_lower_X_D[t]))\n",
    "\n",
    "#Expression of X_ch\n",
    "@constraint(model, X_dch_expression[t in nb_hours_ls], X_dch[t]  == -Z_X_gen_lower_X_D[t]*min_extra_prod_P5_soc[t]);"
   ]
  },
  {
   "cell_type": "markdown",
   "metadata": {},
   "source": [
    "Expression of state of charge"
   ]
  },
  {
   "cell_type": "code",
   "execution_count": 192,
   "metadata": {},
   "outputs": [],
   "source": [
    "@constraint(model, SOC_t_1, X_soc[1] == 1)\n",
    "\n",
    "@constraint(model, SOC_t[t in nb_hours_ls[2:end]], (X_soc[t]-X_soc[t-1])*H*P[5] == (X_ch[t-1]- X_dch[t-1]));"
   ]
  },
  {
   "cell_type": "code",
   "execution_count": 193,
   "metadata": {},
   "outputs": [
    {
     "name": "stdout",
     "output_type": "stream",
     "text": [
      "Set parameter NonConvex to value 2\n",
      "Gurobi Optimizer version 10.0.2 build v10.0.2rc0 (mac64[arm])\n",
      "\n",
      "CPU model: Apple M2\n",
      "Thread count: 8 physical cores, 8 logical processors, using up to 8 threads\n",
      "\n",
      "Optimize a model with 282 rows, 205 columns and 845 nonzeros\n",
      "Model fingerprint: 0x7d76d0ee\n",
      "Model has 109 quadratic constraints\n",
      "Variable types: 125 continuous, 80 integer (80 binary)\n",
      "Coefficient statistics:\n",
      "  Matrix range     [4e-03, 1e+05]\n",
      "  QMatrix range    [1e+00, 2e+00]\n",
      "  QLMatrix range   [1e+00, 1e+05]\n",
      "  Objective range  [4e+05, 4e+06]\n",
      "  Bounds range     [0e+00, 0e+00]\n",
      "  RHS range        [1e+00, 6e+05]\n",
      "  QRHS range       [1e+05, 1e+05]\n",
      "Presolve removed 169 rows and 131 columns\n",
      "Presolve time: 0.00s\n",
      "Presolved: 205 rows, 87 columns, 506 nonzeros\n",
      "Presolved model has 25 bilinear constraint(s)\n",
      "Variable types: 68 continuous, 19 integer (19 binary)\n",
      "\n",
      "Root relaxation: objective 7.147005e+11, 63 iterations, 0.00 seconds (0.00 work units)\n",
      "\n",
      "    Nodes    |    Current Node    |     Objective Bounds      |     Work\n",
      " Expl Unexpl |  Obj  Depth IntInf | Incumbent    BestBd   Gap | It/Node Time\n",
      "\n",
      "     0     0 7.1470e+11    0   21          - 7.1470e+11      -     -    0s\n",
      "     0     0 7.1479e+11    0   19          - 7.1479e+11      -     -    0s\n",
      "     0     0 7.1479e+11    0   19          - 7.1479e+11      -     -    0s\n",
      "     0     0 7.1486e+11    0   18          - 7.1486e+11      -     -    0s\n",
      "     0     0 7.1486e+11    0   18          - 7.1486e+11      -     -    0s\n",
      "     0     0 7.1535e+11    0   18          - 7.1535e+11      -     -    0s\n",
      "     0     0 7.1535e+11    0   18          - 7.1535e+11      -     -    0s\n",
      "     0     0 7.1535e+11    0   18          - 7.1535e+11      -     -    0s\n",
      "     0     0 7.1541e+11    0   19          - 7.1541e+11      -     -    0s\n",
      "     0     0 7.1541e+11    0   19          - 7.1541e+11      -     -    0s\n",
      "     0     0 7.1541e+11    0   20          - 7.1541e+11      -     -    0s\n",
      "     0     0 7.1592e+11    0   20          - 7.1592e+11      -     -    0s\n",
      "     0     0 7.1797e+11    0   21          - 7.1797e+11      -     -    0s\n",
      "     0     0 7.2707e+11    0   16          - 7.2707e+11      -     -    0s\n",
      "H    0     0                    7.709183e+11 7.2707e+11  5.69%     -    0s\n",
      "H    0     0                    7.696220e+11 7.5746e+11  1.58%     -    0s\n",
      "     0     2 7.5746e+11    0   16 7.6962e+11 7.5746e+11  1.58%     -    0s\n",
      "*    7     2               3    7.695630e+11 7.5746e+11  1.57%  20.0    0s\n",
      "*    9     2               4    7.628401e+11 7.6284e+11  0.00%  18.1    0s\n",
      "\n",
      "Cutting planes:\n",
      "  Gomory: 1\n",
      "  Implied bound: 1\n",
      "  Clique: 1\n",
      "  MIR: 2\n",
      "  Flow cover: 1\n",
      "\n",
      "Explored 11 nodes (285 simplex iterations) in 0.04 seconds (0.03 work units)\n",
      "Thread count was 8 (of 8 available processors)\n",
      "\n",
      "Solution count 4: 7.6284e+11 7.69563e+11 7.69622e+11 7.70918e+11 \n",
      "\n",
      "Optimal solution found (tolerance 1.00e-04)\n",
      "Best objective 7.628401327226e+11, best bound 7.628401327226e+11, gap 0.0000%\n",
      "\n",
      "User-callback calls 802, time in user-callback 0.00 sec\n"
     ]
    }
   ],
   "source": [
    "optimize!(model);"
   ]
  },
  {
   "cell_type": "code",
   "execution_count": 194,
   "metadata": {},
   "outputs": [
    {
     "data": {
      "text/plain": [
       "7.628401327226421e11"
      ]
     },
     "execution_count": 194,
     "metadata": {},
     "output_type": "execute_result"
    }
   ],
   "source": [
    "objective_value(model)"
   ]
  },
  {
   "cell_type": "code",
   "execution_count": 195,
   "metadata": {},
   "outputs": [
    {
     "name": "stdout",
     "output_type": "stream",
     "text": [
      "7.628401327226421e11"
     ]
    },
    {
     "data": {
      "text/plain": [
       "7.628401327226421e11"
      ]
     },
     "execution_count": 195,
     "metadata": {},
     "output_type": "execute_result"
    }
   ],
   "source": [
    "cost_mix(value.(P), value.(X_gen))"
   ]
  },
  {
   "cell_type": "code",
   "execution_count": 196,
   "metadata": {},
   "outputs": [
    {
     "name": "stdout",
     "output_type": "stream",
     "text": [
      "1-dimensional DenseAxisArray{Float64,1,...} with index sets:\n",
      "    Dimension 1, 1:5\n",
      "And data, a 5-element Vector{Float64}:\n",
      "      0.0\n",
      " 998491.4207202638\n",
      "  59484.997206445725\n",
      "      0.0\n",
      "      0.0\n",
      "1-dimensional DenseAxisArray{Float64,1,...} with index sets:\n",
      "    Dimension 1, 1:10\n",
      "And data, a 10-element Vector{Float64}:\n",
      " 0.0\n",
      " 0.0\n",
      " 0.0\n",
      " 0.0\n",
      " 0.0\n",
      " 0.0\n",
      " 0.0\n",
      " 0.0\n",
      " 0.0\n",
      " 0.0\n"
     ]
    }
   ],
   "source": [
    "println(value.(P))\n",
    "println(value.(s1[:]))"
   ]
  },
  {
   "cell_type": "markdown",
   "metadata": {},
   "source": []
  },
  {
   "cell_type": "code",
   "execution_count": 197,
   "metadata": {},
   "outputs": [
    {
     "name": "stdout",
     "output_type": "stream",
     "text": [
      "2-dimensional DenseAxisArray{Float64,2,...} with index sets:\n",
      "    Dimension 1, 1:10\n",
      "    Dimension 2, 1:5\n",
      "And data, a 10×5 Matrix{Float64}:\n",
      " 0.0  532585.779232698        0.0             0.0      0.0\n",
      " 0.0  512231.342906437        0.0             0.0      0.0\n",
      " 0.0  518036.36933274614      0.0             0.0      0.0\n",
      " 0.0  480700.1281112592       0.0             0.0      0.0\n",
      " 0.0  474395.5843849234       0.0             0.0      0.0\n",
      " 0.0  468417.15394754335      0.0             0.0      0.0\n",
      " 0.0  467684.6207016462       0.0             0.0      0.0\n",
      " 0.0  453297.28992307134  16411.853776928692  0.0      0.0\n",
      " 0.0  410653.9389935543   59484.997206445725  0.0      0.0\n",
      " 0.0  376334.9042             0.0             0.0  99999.99999999999\n"
     ]
    }
   ],
   "source": [
    "println(value.(X_gen))"
   ]
  },
  {
   "cell_type": "code",
   "execution_count": 198,
   "metadata": {},
   "outputs": [
    {
     "name": "stdout",
     "output_type": "stream",
     "text": [
      "1-dimensional DenseAxisArray{Float64,1,...} with index sets:\n",
      "    Dimension 1, 1:10\n",
      "And data, a 10-element Vector{Float64}:\n",
      "  1.0\n",
      "  1.0\n",
      "  1.0\n",
      "  1.0\n",
      "  1.0\n",
      "  1.0\n",
      "  1.0\n",
      " -8.866710260862502e-16\n",
      "  0.0\n",
      "  0.0\n",
      "1-dimensional DenseAxisArray{Float64,1,...} with index sets:\n",
      "    Dimension 1, 1:10\n",
      "And data, a 10-element Vector{Float64}:\n",
      " 1.0\n",
      " 0.0\n",
      " 0.0\n",
      " 0.0\n",
      " 0.0\n",
      " 0.0\n",
      " 0.0\n",
      " 0.0\n",
      " 0.0\n",
      " 0.0\n"
     ]
    }
   ],
   "source": [
    "println(value.(Z_X_gen_greater_X_D))\n",
    "println(value.(X_soc))"
   ]
  },
  {
   "cell_type": "code",
   "execution_count": 201,
   "metadata": {},
   "outputs": [
    {
     "name": "stdout",
     "output_type": "stream",
     "text": [
      "1-dimensional DenseAxisArray{Float64,1,...} with index sets:\n",
      "    Dimension 1, 1:10\n",
      "And data, a 10-element Vector{Float64}:\n",
      " 0.0\n",
      " 0.0\n",
      " 0.0\n",
      " 0.0\n",
      " 0.0\n",
      " 0.0\n",
      " 0.0\n",
      " 0.0\n",
      " 0.0\n",
      " 0.0\n",
      "1-dimensional DenseAxisArray{Float64,1,...} with index sets:\n",
      "    Dimension 1, 1:10\n",
      "And data, a 10-element Vector{Float64}:\n",
      "     0.0\n",
      "     0.0\n",
      "     0.0\n",
      "     0.0\n",
      "     0.0\n",
      "     0.0\n",
      "     0.0\n",
      "     0.0\n",
      "     0.0\n",
      " 99999.99999999999\n"
     ]
    }
   ],
   "source": [
    "println(value.(X_ch))\n",
    "println(value.(X_dch))"
   ]
  },
  {
   "cell_type": "code",
   "execution_count": 203,
   "metadata": {},
   "outputs": [
    {
     "name": "stdout",
     "output_type": "stream",
     "text": [
      "1-dimensional DenseAxisArray{Float64,1,...} with index sets:\n",
      "    Dimension 1, 1:10\n",
      "And data, a 10-element Vector{Float64}:\n",
      "   74856.86133269803\n",
      "   63282.775406436995\n",
      "   73820.36893274612\n",
      "   40321.81981125922\n",
      "   32038.084784923412\n",
      "   17911.032047543325\n",
      "    1418.786301646207\n",
      "  -16411.853776928678\n",
      "  -59484.997206445725\n",
      " -100000.0\n",
      "0.0\n",
      "1-dimensional DenseAxisArray{Float64,1,...} with index sets:\n",
      "    Dimension 1, 1:10\n",
      "And data, a 10-element Vector{Float64}:\n",
      "      0.0\n",
      "      0.0\n",
      "      0.0\n",
      "      0.0\n",
      "      0.0\n",
      "      0.0\n",
      "      0.0\n",
      " -16411.853776928692\n",
      " -59484.997206445725\n",
      " -99999.99999999999\n",
      "1-dimensional DenseAxisArray{Float64,1,...} with index sets:\n",
      "    Dimension 1, 1:10\n",
      "And data, a 10-element Vector{Float64}:\n",
      " 0.0\n",
      " 0.0\n",
      " 0.0\n",
      " 0.0\n",
      " 0.0\n",
      " 0.0\n",
      " 0.0\n",
      " 0.0\n",
      " 0.0\n",
      " 0.0\n",
      "1-dimensional DenseAxisArray{Float64,1,...} with index sets:\n",
      "    Dimension 1, 1:10\n",
      "And data, a 10-element Vector{Float64}:\n",
      "      0.0\n",
      "      0.0\n",
      "      0.0\n",
      "      0.0\n",
      "      0.0\n",
      "      0.0\n",
      "      0.0\n",
      " -16411.853776928692\n",
      " -59484.997206445725\n",
      " -99999.99999999999\n"
     ]
    }
   ],
   "source": [
    "println(value.((sum(X_gen[:,i] for i in 1:2)- X_D[:]) ))\n",
    "println(value.(P[5]))\n",
    "println(value.(min_extra_prod_P_5[:]))\n",
    "println(value.(X_soc[:]* P[5] * H))\n",
    "println(value.(min_extra_prod_P5_soc))"
   ]
  },
  {
   "cell_type": "code",
   "execution_count": 205,
   "metadata": {},
   "outputs": [
    {
     "name": "stdout",
     "output_type": "stream",
     "text": [
      "1-dimensional DenseAxisArray{Float64,1,...} with index sets:\n",
      "    Dimension 1, 1:10\n",
      "And data, a 10-element Vector{Float64}:\n",
      " 0.0\n",
      " 0.0\n",
      " 0.0\n",
      " 0.0\n",
      " 0.0\n",
      " 0.0\n",
      " 0.0\n",
      " 0.0\n",
      " 0.0\n",
      " 1.0\n",
      "1-dimensional DenseAxisArray{Float64,1,...} with index sets:\n",
      "    Dimension 1, 1:10\n",
      "And data, a 10-element Vector{Float64}:\n",
      "   74856.86133269803\n",
      "   63282.775406436995\n",
      "   73820.36893274612\n",
      "   40321.81981125922\n",
      "   32038.084784923412\n",
      "   17911.032047543325\n",
      "    1418.786301646207\n",
      "       1.4551915228366852e-11\n",
      "       0.0\n",
      " -100000.0\n"
     ]
    }
   ],
   "source": [
    "println(value.(Z_X_gen_lower_X_D))\n",
    "println(value.(-X_D[:] + sum(X_gen[:,i] for i in 1:4)))"
   ]
  },
  {
   "cell_type": "code",
   "execution_count": null,
   "metadata": {},
   "outputs": [],
   "source": []
  }
 ],
 "metadata": {
  "kernelspec": {
   "display_name": "Julia 1.9.3",
   "language": "julia",
   "name": "julia-1.9"
  },
  "language_info": {
   "file_extension": ".jl",
   "mimetype": "application/julia",
   "name": "julia",
   "version": "1.9.3"
  },
  "orig_nbformat": 4
 },
 "nbformat": 4,
 "nbformat_minor": 2
}
